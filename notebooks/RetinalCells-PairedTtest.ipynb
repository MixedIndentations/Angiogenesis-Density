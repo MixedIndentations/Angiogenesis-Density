{
 "cells": [
  {
   "cell_type": "markdown",
   "metadata": {},
   "source": [
    "# Exploration of Retinal Cells with AngioTool"
   ]
  },
  {
   "cell_type": "code",
   "execution_count": 4,
   "metadata": {},
   "outputs": [
    {
     "data": {
      "text/html": [
       "<div>\n",
       "<style scoped>\n",
       "    .dataframe tbody tr th:only-of-type {\n",
       "        vertical-align: middle;\n",
       "    }\n",
       "\n",
       "    .dataframe tbody tr th {\n",
       "        vertical-align: top;\n",
       "    }\n",
       "\n",
       "    .dataframe thead th {\n",
       "        text-align: right;\n",
       "    }\n",
       "</style>\n",
       "<table border=\"1\" class=\"dataframe\">\n",
       "  <thead>\n",
       "    <tr style=\"text-align: right;\">\n",
       "      <th></th>\n",
       "      <th>Vessels percentage area</th>\n",
       "      <th>Total Number of Junctions</th>\n",
       "      <th>Total Vessels Length</th>\n",
       "      <th>Total Number of End Points</th>\n",
       "      <th>Litter</th>\n",
       "      <th>AnimalID</th>\n",
       "      <th>Genotype</th>\n",
       "    </tr>\n",
       "  </thead>\n",
       "  <tbody>\n",
       "    <tr>\n",
       "      <th>0</th>\n",
       "      <td>65.034</td>\n",
       "      <td>119</td>\n",
       "      <td>14.215</td>\n",
       "      <td>16</td>\n",
       "      <td>35</td>\n",
       "      <td>35-3</td>\n",
       "      <td>+/+</td>\n",
       "    </tr>\n",
       "    <tr>\n",
       "      <th>1</th>\n",
       "      <td>61.498</td>\n",
       "      <td>183</td>\n",
       "      <td>16.877</td>\n",
       "      <td>17</td>\n",
       "      <td>35</td>\n",
       "      <td>35-3</td>\n",
       "      <td>+/+</td>\n",
       "    </tr>\n",
       "    <tr>\n",
       "      <th>2</th>\n",
       "      <td>55.247</td>\n",
       "      <td>157</td>\n",
       "      <td>15.501</td>\n",
       "      <td>29</td>\n",
       "      <td>35</td>\n",
       "      <td>35-3</td>\n",
       "      <td>+/+</td>\n",
       "    </tr>\n",
       "    <tr>\n",
       "      <th>3</th>\n",
       "      <td>55.219</td>\n",
       "      <td>138</td>\n",
       "      <td>14.466</td>\n",
       "      <td>37</td>\n",
       "      <td>35</td>\n",
       "      <td>35-5</td>\n",
       "      <td>DEE/DEE</td>\n",
       "    </tr>\n",
       "    <tr>\n",
       "      <th>4</th>\n",
       "      <td>51.731</td>\n",
       "      <td>134</td>\n",
       "      <td>13.181</td>\n",
       "      <td>32</td>\n",
       "      <td>35</td>\n",
       "      <td>35-5</td>\n",
       "      <td>DEE/DEE</td>\n",
       "    </tr>\n",
       "  </tbody>\n",
       "</table>\n",
       "</div>"
      ],
      "text/plain": [
       "   Vessels percentage area  Total Number of Junctions  Total Vessels Length  \\\n",
       "0                   65.034                        119                14.215   \n",
       "1                   61.498                        183                16.877   \n",
       "2                   55.247                        157                15.501   \n",
       "3                   55.219                        138                14.466   \n",
       "4                   51.731                        134                13.181   \n",
       "\n",
       "   Total Number of End Points  Litter AnimalID Genotype  \n",
       "0                          16      35     35-3      +/+  \n",
       "1                          17      35     35-3      +/+  \n",
       "2                          29      35     35-3      +/+  \n",
       "3                          37      35     35-5  DEE/DEE  \n",
       "4                          32      35     35-5  DEE/DEE  "
      ]
     },
     "execution_count": 4,
     "metadata": {},
     "output_type": "execute_result"
    }
   ],
   "source": [
    "import numpy as np\n",
    "import pandas as pd\n",
    "\n",
    "unblinded_file = '../data/unblinded_data.csv'\n",
    "df = pd.read_csv(unblinded_file)\n",
    "\n",
    "df.head() # Look at first five rows \"header\""
   ]
  },
  {
   "cell_type": "markdown",
   "metadata": {},
   "source": [
    "### Average over Litter and Genotype\n",
    "\n",
    "1. Pivot by `Genotype` and `Litter` using `set_index()`.\n",
    "\n",
    "2. Make sure the genotype ordering is consistent for all litters by using `sort_index()`.\n",
    "\n",
    "3. Calculate mean values within litters for each genotype"
   ]
  },
  {
   "cell_type": "code",
   "execution_count": 6,
   "metadata": {
    "scrolled": false
   },
   "outputs": [
    {
     "data": {
      "text/html": [
       "<div>\n",
       "<style scoped>\n",
       "    .dataframe tbody tr th:only-of-type {\n",
       "        vertical-align: middle;\n",
       "    }\n",
       "\n",
       "    .dataframe tbody tr th {\n",
       "        vertical-align: top;\n",
       "    }\n",
       "\n",
       "    .dataframe thead th {\n",
       "        text-align: right;\n",
       "    }\n",
       "</style>\n",
       "<table border=\"1\" class=\"dataframe\">\n",
       "  <thead>\n",
       "    <tr style=\"text-align: right;\">\n",
       "      <th></th>\n",
       "      <th></th>\n",
       "      <th>Vessels percentage area</th>\n",
       "      <th>Total Number of Junctions</th>\n",
       "      <th>Total Vessels Length</th>\n",
       "      <th>Total Number of End Points</th>\n",
       "    </tr>\n",
       "    <tr>\n",
       "      <th>Litter</th>\n",
       "      <th>Genotype</th>\n",
       "      <th></th>\n",
       "      <th></th>\n",
       "      <th></th>\n",
       "      <th></th>\n",
       "    </tr>\n",
       "  </thead>\n",
       "  <tbody>\n",
       "    <tr>\n",
       "      <th rowspan=\"2\" valign=\"top\">35</th>\n",
       "      <th>+/+</th>\n",
       "      <td>60.59</td>\n",
       "      <td>153.00</td>\n",
       "      <td>15.53</td>\n",
       "      <td>20.67</td>\n",
       "    </tr>\n",
       "    <tr>\n",
       "      <th>DEE/DEE</th>\n",
       "      <td>53.62</td>\n",
       "      <td>132.33</td>\n",
       "      <td>13.57</td>\n",
       "      <td>38.67</td>\n",
       "    </tr>\n",
       "    <tr>\n",
       "      <th rowspan=\"2\" valign=\"top\">36</th>\n",
       "      <th>+/+</th>\n",
       "      <td>64.30</td>\n",
       "      <td>171.67</td>\n",
       "      <td>16.09</td>\n",
       "      <td>26.33</td>\n",
       "    </tr>\n",
       "    <tr>\n",
       "      <th>DEE/DEE</th>\n",
       "      <td>62.15</td>\n",
       "      <td>136.83</td>\n",
       "      <td>14.42</td>\n",
       "      <td>31.17</td>\n",
       "    </tr>\n",
       "    <tr>\n",
       "      <th rowspan=\"3\" valign=\"top\">37</th>\n",
       "      <th>+/+</th>\n",
       "      <td>58.68</td>\n",
       "      <td>110.00</td>\n",
       "      <td>13.10</td>\n",
       "      <td>25.33</td>\n",
       "    </tr>\n",
       "    <tr>\n",
       "      <th>DEE/+</th>\n",
       "      <td>61.73</td>\n",
       "      <td>161.00</td>\n",
       "      <td>15.67</td>\n",
       "      <td>32.50</td>\n",
       "    </tr>\n",
       "    <tr>\n",
       "      <th>DEE/DEE</th>\n",
       "      <td>54.29</td>\n",
       "      <td>98.33</td>\n",
       "      <td>12.67</td>\n",
       "      <td>27.67</td>\n",
       "    </tr>\n",
       "    <tr>\n",
       "      <th rowspan=\"3\" valign=\"top\">40</th>\n",
       "      <th>+/+</th>\n",
       "      <td>55.96</td>\n",
       "      <td>177.00</td>\n",
       "      <td>16.09</td>\n",
       "      <td>46.83</td>\n",
       "    </tr>\n",
       "    <tr>\n",
       "      <th>DEE/+</th>\n",
       "      <td>51.47</td>\n",
       "      <td>111.25</td>\n",
       "      <td>12.85</td>\n",
       "      <td>32.25</td>\n",
       "    </tr>\n",
       "    <tr>\n",
       "      <th>DEE/DEE</th>\n",
       "      <td>51.08</td>\n",
       "      <td>116.40</td>\n",
       "      <td>13.23</td>\n",
       "      <td>34.20</td>\n",
       "    </tr>\n",
       "    <tr>\n",
       "      <th rowspan=\"2\" valign=\"top\">41</th>\n",
       "      <th>+/+</th>\n",
       "      <td>49.74</td>\n",
       "      <td>106.20</td>\n",
       "      <td>11.68</td>\n",
       "      <td>39.80</td>\n",
       "    </tr>\n",
       "    <tr>\n",
       "      <th>DEE/DEE</th>\n",
       "      <td>49.87</td>\n",
       "      <td>91.33</td>\n",
       "      <td>11.32</td>\n",
       "      <td>40.67</td>\n",
       "    </tr>\n",
       "  </tbody>\n",
       "</table>\n",
       "</div>"
      ],
      "text/plain": [
       "                 Vessels percentage area  Total Number of Junctions  \\\n",
       "Litter Genotype                                                       \n",
       "35     +/+                         60.59                     153.00   \n",
       "       DEE/DEE                     53.62                     132.33   \n",
       "36     +/+                         64.30                     171.67   \n",
       "       DEE/DEE                     62.15                     136.83   \n",
       "37     +/+                         58.68                     110.00   \n",
       "       DEE/+                       61.73                     161.00   \n",
       "       DEE/DEE                     54.29                      98.33   \n",
       "40     +/+                         55.96                     177.00   \n",
       "       DEE/+                       51.47                     111.25   \n",
       "       DEE/DEE                     51.08                     116.40   \n",
       "41     +/+                         49.74                     106.20   \n",
       "       DEE/DEE                     49.87                      91.33   \n",
       "\n",
       "                 Total Vessels Length  Total Number of End Points  \n",
       "Litter Genotype                                                    \n",
       "35     +/+                      15.53                       20.67  \n",
       "       DEE/DEE                  13.57                       38.67  \n",
       "36     +/+                      16.09                       26.33  \n",
       "       DEE/DEE                  14.42                       31.17  \n",
       "37     +/+                      13.10                       25.33  \n",
       "       DEE/+                    15.67                       32.50  \n",
       "       DEE/DEE                  12.67                       27.67  \n",
       "40     +/+                      16.09                       46.83  \n",
       "       DEE/+                    12.85                       32.25  \n",
       "       DEE/DEE                  13.23                       34.20  \n",
       "41     +/+                      11.68                       39.80  \n",
       "       DEE/DEE                  11.32                       40.67  "
      ]
     },
     "execution_count": 6,
     "metadata": {},
     "output_type": "execute_result"
    }
   ],
   "source": [
    "data_mean = (merged_inner\n",
    "             .set_index(['Litter', 'Genotype']) # pivot\n",
    "             .sort_index(level = ['Litter', 'Genotype'])\n",
    "             .mean(level = ['Litter', 'Genotype'])\n",
    "            )\n",
    "data_mean"
   ]
  },
  {
   "cell_type": "markdown",
   "metadata": {},
   "source": [
    "### Split data\n",
    "\n",
    "`data_mean` is a `MultiIndex` object instead of your usual `DataFrame`"
   ]
  },
  {
   "cell_type": "code",
   "execution_count": 7,
   "metadata": {},
   "outputs": [
    {
     "data": {
      "text/plain": [
       "MultiIndex(levels=[['35', '36', '37', '40', '41'], ['+/+', 'DEE/+', 'DEE/DEE']],\n",
       "           labels=[[0, 0, 1, 1, 2, 2, 2, 3, 3, 3, 4, 4], [0, 2, 0, 2, 0, 1, 2, 0, 1, 2, 0, 2]],\n",
       "           names=['Litter', 'Genotype'])"
      ]
     },
     "execution_count": 7,
     "metadata": {},
     "output_type": "execute_result"
    }
   ],
   "source": [
    "data_mean.index"
   ]
  },
  {
   "cell_type": "markdown",
   "metadata": {},
   "source": [
    "We will use `panda`'s cross-section function, `DataFrame.xs`, to separate our data by genotype.\n",
    "\n",
    "| Wild type | Mutant  |\n",
    "|-----------|---------|\n",
    "| +/+       | DEE/DEE |"
   ]
  },
  {
   "cell_type": "code",
   "execution_count": 8,
   "metadata": {
    "collapsed": true
   },
   "outputs": [],
   "source": [
    "wild =   data_mean.xs('+/+',     level = 'Genotype')\n",
    "mutant = data_mean.xs('DEE/DEE', level = 'Genotype')"
   ]
  },
  {
   "cell_type": "code",
   "execution_count": 9,
   "metadata": {
    "collapsed": true
   },
   "outputs": [],
   "source": [
    "## Get parameter data arrays\n",
    "wildVPA =           wild['Vessels percentage area'].values\n",
    "wildNJunctions =    wild['Total Number of Junctions'].values\n",
    "wildVesselsLength = wild['Total Vessels Length'].values\n",
    "wildNEndPoints =    wild['Total Number of End Points'].values\n",
    "\n",
    "mutantVPA =           mutant['Vessels percentage area'].values\n",
    "mutantNJunctions =    mutant['Total Number of Junctions'].values\n",
    "mutantVesselsLength = mutant['Total Vessels Length'].values\n",
    "mutantNEndPoints =    mutant['Total Number of End Points'].values"
   ]
  },
  {
   "cell_type": "code",
   "execution_count": 73,
   "metadata": {
    "collapsed": true
   },
   "outputs": [],
   "source": [
    "import matplotlib\n",
    "%matplotlib inline\n",
    "from matplotlib import pyplot as plt\n",
    "\n",
    "def pair_dot_plot(befores, afters, ylabel):\n",
    "    \n",
    "    # plotting the points\n",
    "    plt.scatter(np.zeros(len(befores)), befores)\n",
    "    plt.scatter(np.ones(len(afters)), afters)\n",
    "\n",
    "    # plotting the lines\n",
    "    for i in range(len(befores)):\n",
    "        plt.plot( [0,1], [befores[i], afters[i]], c='k')\n",
    "\n",
    "    plt.xticks([0,1], ['+/+', 'mutant'])\n",
    "    plt.xlim([-0.5, 1.5])\n",
    "    plt.ylabel(ylabel)"
   ]
  },
  {
   "cell_type": "code",
   "execution_count": 74,
   "metadata": {},
   "outputs": [
    {
     "data": {
      "image/png": "[encoded data removed]",
      "text/plain": [
       "<matplotlib.figure.Figure at 0xde32e10>"
      ]
     },
     "metadata": {},
     "output_type": "display_data"
    }
   ],
   "source": [
    "pair_dot_plot(wildVPA, mutantVPA, 'Vessel percentage area')"
   ]
  },
  {
   "cell_type": "code",
   "execution_count": 75,
   "metadata": {},
   "outputs": [
    {
     "data": {
      "image/png": "[encoded data removed]",
      "text/plain": [
       "<matplotlib.figure.Figure at 0xe2d95f8>"
      ]
     },
     "metadata": {},
     "output_type": "display_data"
    }
   ],
   "source": [
    "pair_dot_plot(wildVesselsLength, mutantVesselsLength, 'Vessel Lengths')"
   ]
  },
  {
   "cell_type": "code",
   "execution_count": 77,
   "metadata": {},
   "outputs": [
    {
     "data": {
      "image/png": "[encoded data removed]",
      "text/plain": [
       "<matplotlib.figure.Figure at 0xe54d2b0>"
      ]
     },
     "metadata": {},
     "output_type": "display_data"
    }
   ],
   "source": [
    "pair_dot_plot(wildNJunctions, mutantNJunctions, 'Number of Junctions')"
   ]
  },
  {
   "cell_type": "code",
   "execution_count": 76,
   "metadata": {
    "scrolled": true
   },
   "outputs": [
    {
     "data": {
      "image/png": "[encoded data removed]",
      "text/plain": [
       "<matplotlib.figure.Figure at 0xe2eacf8>"
      ]
     },
     "metadata": {},
     "output_type": "display_data"
    }
   ],
   "source": [
    "pair_dot_plot(wildNEndPoints, mutantNEndPoints, 'Number of End Points')"
   ]
  },
  {
   "cell_type": "markdown",
   "metadata": {},
   "source": [
    "## Hypothesis testing\n",
    "\n",
    "Now that we have our data ready to go, we can do a **paired t-test**.\n",
    "\n",
    "`scipy` contains useful things for scientific analysis, and they have a built-in paired t-test function called `ttest_rel`."
   ]
  },
  {
   "cell_type": "code",
   "execution_count": 12,
   "metadata": {},
   "outputs": [
    {
     "data": {
      "text/html": [
       "<div>\n",
       "<style scoped>\n",
       "    .dataframe tbody tr th:only-of-type {\n",
       "        vertical-align: middle;\n",
       "    }\n",
       "\n",
       "    .dataframe tbody tr th {\n",
       "        vertical-align: top;\n",
       "    }\n",
       "\n",
       "    .dataframe thead th {\n",
       "        text-align: right;\n",
       "    }\n",
       "</style>\n",
       "<table border=\"1\" class=\"dataframe\">\n",
       "  <thead>\n",
       "    <tr style=\"text-align: right;\">\n",
       "      <th></th>\n",
       "      <th>p_value</th>\n",
       "      <th>t_statistic</th>\n",
       "    </tr>\n",
       "    <tr>\n",
       "      <th>Parameter</th>\n",
       "      <th></th>\n",
       "      <th></th>\n",
       "    </tr>\n",
       "  </thead>\n",
       "  <tbody>\n",
       "    <tr>\n",
       "      <th>Vessels percentage area</th>\n",
       "      <td>0.04</td>\n",
       "      <td>3.00</td>\n",
       "    </tr>\n",
       "    <tr>\n",
       "      <th>Total Number of Junctions</th>\n",
       "      <td>0.03</td>\n",
       "      <td>3.19</td>\n",
       "    </tr>\n",
       "    <tr>\n",
       "      <th>Total Vessels Length</th>\n",
       "      <td>0.04</td>\n",
       "      <td>3.07</td>\n",
       "    </tr>\n",
       "    <tr>\n",
       "      <th>Total Number of End Points</th>\n",
       "      <td>0.61</td>\n",
       "      <td>-0.55</td>\n",
       "    </tr>\n",
       "  </tbody>\n",
       "</table>\n",
       "</div>"
      ],
      "text/plain": [
       "                            p_value  t_statistic\n",
       "Parameter                                       \n",
       "Vessels percentage area        0.04         3.00\n",
       "Total Number of Junctions      0.03         3.19\n",
       "Total Vessels Length           0.04         3.07\n",
       "Total Number of End Points     0.61        -0.55"
      ]
     },
     "execution_count": 12,
     "metadata": {},
     "output_type": "execute_result"
    }
   ],
   "source": [
    "from scipy import stats\n",
    "\n",
    "## Do paired/dependent t-tests\n",
    "t_VPA, p_VPA = stats.ttest_rel(wildVPA, mutantVPA)\n",
    "\n",
    "t_n_junct, p_n_junct = stats.ttest_rel(\n",
    "    wildNJunctions, mutantNJunctions)\n",
    "\n",
    "t_vessel_length, p_vessel_length = stats.ttest_rel(\n",
    "    wildVesselsLength, mutantVesselsLength)\n",
    "\n",
    "t_n_endpoints, p_n_endpoints = stats.ttest_rel(\n",
    "    wildNEndPoints, mutantNEndPoints)\n",
    "\n",
    "t_statistics = [t_VPA, t_n_junct, t_vessel_length, t_n_endpoints]\n",
    "p_values =     [p_VPA, p_n_junct, p_vessel_length, p_n_endpoints]\n",
    "\n",
    "stat_df = pd.DataFrame({'Parameter': wild.columns,\n",
    "                        't_statistic': t_statistics, \n",
    "                        'p_value': p_values})\n",
    "\n",
    "stat_df.set_index('Parameter')"
   ]
  },
  {
   "cell_type": "markdown",
   "metadata": {},
   "source": [
    "It appears that our p-values for \n",
    "- `Vessels percentage area` \n",
    "- `Total Number of Junctions`\n",
    "- `Total Vessels Length`\n",
    "\n",
    "are statistically significant at the p < 0.05 level.\n",
    "\n",
    "However, p-values by themselves aren't very useful. Sure, there's indication of a statistically significant result, but what sort of a difference does it make?\n",
    "\n",
    "To answer this, we can look at **effect size**.\n",
    "\n",
    "\"Cohen's d\" is frequently seen among literature, but there are a handful of techniques that are mistakenly attributed to be Cohen's d. For a good review, I recommend https://www.ncbi.nlm.nih.gov/pmc/articles/PMC3840331/.\n",
    "\n",
    "In this analysis, we will use Cohen's $d_z$, where the $z$ reminds us that we are looking at the difference of two samples ($x$ and $y$).\n",
    "\n"
   ]
  },
  {
   "cell_type": "code",
   "execution_count": 13,
   "metadata": {
    "scrolled": true
   },
   "outputs": [
    {
     "data": {
      "text/html": [
       "<div>\n",
       "<style scoped>\n",
       "    .dataframe tbody tr th:only-of-type {\n",
       "        vertical-align: middle;\n",
       "    }\n",
       "\n",
       "    .dataframe tbody tr th {\n",
       "        vertical-align: top;\n",
       "    }\n",
       "\n",
       "    .dataframe thead th {\n",
       "        text-align: right;\n",
       "    }\n",
       "</style>\n",
       "<table border=\"1\" class=\"dataframe\">\n",
       "  <thead>\n",
       "    <tr style=\"text-align: right;\">\n",
       "      <th></th>\n",
       "      <th>p_value</th>\n",
       "      <th>t_statistic</th>\n",
       "      <th>cohen_dz</th>\n",
       "    </tr>\n",
       "    <tr>\n",
       "      <th>Parameter</th>\n",
       "      <th></th>\n",
       "      <th></th>\n",
       "      <th></th>\n",
       "    </tr>\n",
       "  </thead>\n",
       "  <tbody>\n",
       "    <tr>\n",
       "      <th>Vessels percentage area</th>\n",
       "      <td>0.040</td>\n",
       "      <td>3.004</td>\n",
       "      <td>1.343</td>\n",
       "    </tr>\n",
       "    <tr>\n",
       "      <th>Total Number of Junctions</th>\n",
       "      <td>0.033</td>\n",
       "      <td>3.188</td>\n",
       "      <td>1.426</td>\n",
       "    </tr>\n",
       "    <tr>\n",
       "      <th>Total Vessels Length</th>\n",
       "      <td>0.037</td>\n",
       "      <td>3.073</td>\n",
       "      <td>1.374</td>\n",
       "    </tr>\n",
       "    <tr>\n",
       "      <th>Total Number of End Points</th>\n",
       "      <td>0.612</td>\n",
       "      <td>-0.549</td>\n",
       "      <td>-0.245</td>\n",
       "    </tr>\n",
       "  </tbody>\n",
       "</table>\n",
       "</div>"
      ],
      "text/plain": [
       "                            p_value  t_statistic  cohen_dz\n",
       "Parameter                                                 \n",
       "Vessels percentage area       0.040        3.004     1.343\n",
       "Total Number of Junctions     0.033        3.188     1.426\n",
       "Total Vessels Length          0.037        3.073     1.374\n",
       "Total Number of End Points    0.612       -0.549    -0.245"
      ]
     },
     "execution_count": 13,
     "metadata": {},
     "output_type": "execute_result"
    }
   ],
   "source": [
    "## Calculate Cohen's d using test statistic and n\n",
    "## https://www.ncbi.nlm.nih.gov/pmc/articles/PMC3840331/\n",
    "def get_cohens_d_z(t_statistic, n):\n",
    "    \"\"\"Returns Cohen's d_z\n",
    "    \n",
    "    One way of calculating Cohen's d is by \n",
    "    taking the t-statistic and dividing it by\n",
    "    the square root of the sample size.\n",
    "    \"\"\"\n",
    "    d = [t / np.sqrt(n)\n",
    "         for t in t_statistic]\n",
    "    \n",
    "    return d\n",
    "\n",
    "n = len(wildVPA)\n",
    "cohens_d_values = get_cohens_d_z(t_statistics, n)\n",
    "\n",
    "pd.options.display.float_format = '{:,.3f}'.format\n",
    "\n",
    "stat_df['cohen_dz'] = cohens_d_values\n",
    "stat_df.set_index('Parameter')"
   ]
  },
  {
   "cell_type": "markdown",
   "metadata": {},
   "source": [
    "## Effect size results\n",
    "The Cohen d$_z$ values indicate that our effect sizes are on the order of 1.4$\\sigma$.\n",
    "\n",
    "There's some concern that Cohen's d is biased upwards for small samples (n < 20)"
   ]
  },
  {
   "cell_type": "markdown",
   "metadata": {},
   "source": [
    "For fun, we can calculate cohen's $d$ using means and stds. We expect calculating the effect size from the t-statistic to yield identical results."
   ]
  },
  {
   "cell_type": "code",
   "execution_count": 14,
   "metadata": {},
   "outputs": [
    {
     "data": {
      "text/html": [
       "<div>\n",
       "<style scoped>\n",
       "    .dataframe tbody tr th:only-of-type {\n",
       "        vertical-align: middle;\n",
       "    }\n",
       "\n",
       "    .dataframe tbody tr th {\n",
       "        vertical-align: top;\n",
       "    }\n",
       "\n",
       "    .dataframe thead th {\n",
       "        text-align: right;\n",
       "    }\n",
       "</style>\n",
       "<table border=\"1\" class=\"dataframe\">\n",
       "  <thead>\n",
       "    <tr style=\"text-align: right;\">\n",
       "      <th></th>\n",
       "      <th>Vessels percentage area</th>\n",
       "      <th>Total Number of Junctions</th>\n",
       "      <th>Total Vessels Length</th>\n",
       "      <th>Total Number of End Points</th>\n",
       "    </tr>\n",
       "    <tr>\n",
       "      <th>Litter</th>\n",
       "      <th></th>\n",
       "      <th></th>\n",
       "      <th></th>\n",
       "      <th></th>\n",
       "    </tr>\n",
       "  </thead>\n",
       "  <tbody>\n",
       "    <tr>\n",
       "      <th>35</th>\n",
       "      <td>6.97</td>\n",
       "      <td>20.67</td>\n",
       "      <td>1.96</td>\n",
       "      <td>-18.00</td>\n",
       "    </tr>\n",
       "    <tr>\n",
       "      <th>36</th>\n",
       "      <td>2.15</td>\n",
       "      <td>34.83</td>\n",
       "      <td>1.67</td>\n",
       "      <td>-4.83</td>\n",
       "    </tr>\n",
       "    <tr>\n",
       "      <th>37</th>\n",
       "      <td>4.39</td>\n",
       "      <td>11.67</td>\n",
       "      <td>0.44</td>\n",
       "      <td>-2.33</td>\n",
       "    </tr>\n",
       "    <tr>\n",
       "      <th>40</th>\n",
       "      <td>4.87</td>\n",
       "      <td>60.60</td>\n",
       "      <td>2.85</td>\n",
       "      <td>12.63</td>\n",
       "    </tr>\n",
       "    <tr>\n",
       "      <th>41</th>\n",
       "      <td>-0.12</td>\n",
       "      <td>14.87</td>\n",
       "      <td>0.36</td>\n",
       "      <td>-0.87</td>\n",
       "    </tr>\n",
       "  </tbody>\n",
       "</table>\n",
       "</div>"
      ],
      "text/plain": [
       "        Vessels percentage area  Total Number of Junctions  \\\n",
       "Litter                                                       \n",
       "35                         6.97                      20.67   \n",
       "36                         2.15                      34.83   \n",
       "37                         4.39                      11.67   \n",
       "40                         4.87                      60.60   \n",
       "41                        -0.12                      14.87   \n",
       "\n",
       "        Total Vessels Length  Total Number of End Points  \n",
       "Litter                                                    \n",
       "35                      1.96                      -18.00  \n",
       "36                      1.67                       -4.83  \n",
       "37                      0.44                       -2.33  \n",
       "40                      2.85                       12.63  \n",
       "41                      0.36                       -0.87  "
      ]
     },
     "execution_count": 14,
     "metadata": {},
     "output_type": "execute_result"
    }
   ],
   "source": [
    "pd.options.display.float_format = '{:,.2f}'.format\n",
    "\n",
    "## Look at the difference in means\n",
    "diff = wild - mutant\n",
    "diff"
   ]
  },
  {
   "cell_type": "code",
   "execution_count": 15,
   "metadata": {
    "scrolled": true
   },
   "outputs": [
    {
     "data": {
      "text/plain": [
       "Vessels percentage area       3.65\n",
       "Total Number of Junctions    28.53\n",
       "Total Vessels Length          1.46\n",
       "Total Number of End Points   -2.68\n",
       "dtype: float64"
      ]
     },
     "execution_count": 15,
     "metadata": {},
     "output_type": "execute_result"
    }
   ],
   "source": [
    "means = diff.mean()\n",
    "means"
   ]
  },
  {
   "cell_type": "code",
   "execution_count": 16,
   "metadata": {
    "scrolled": true
   },
   "outputs": [
    {
     "data": {
      "text/plain": [
       "Vessels percentage area       2.72\n",
       "Total Number of Junctions    20.01\n",
       "Total Vessels Length          1.06\n",
       "Total Number of End Points   10.92\n",
       "dtype: float64"
      ]
     },
     "execution_count": 16,
     "metadata": {},
     "output_type": "execute_result"
    }
   ],
   "source": [
    "stds = diff.std()\n",
    "stds"
   ]
  },
  {
   "cell_type": "code",
   "execution_count": 17,
   "metadata": {
    "scrolled": true
   },
   "outputs": [
    {
     "data": {
      "text/plain": [
       "Vessels percentage area       1.34\n",
       "Total Number of Junctions     1.43\n",
       "Total Vessels Length          1.37\n",
       "Total Number of End Points   -0.25\n",
       "dtype: float64"
      ]
     },
     "execution_count": 17,
     "metadata": {},
     "output_type": "execute_result"
    }
   ],
   "source": [
    "means/stds"
   ]
  },
  {
   "cell_type": "code",
   "execution_count": 18,
   "metadata": {
    "collapsed": true
   },
   "outputs": [],
   "source": [
    "#fig, axes = plt.subplot(2,2, figsize=(10,10))\n",
    "import seaborn as sns\n",
    "sns.set(style=\"whitegrid\", color_codes=True)\n",
    "import matplotlib\n",
    "from matplotlib import pyplot as plt\n",
    "%matplotlib inline\n",
    "\n",
    "#fig, axes = plt.subplots(figsize=(5,5))\n",
    "\n",
    "\n",
    "#diff.reset_index()\n",
    "#diff['Vessels percentage area']\n",
    "#diff.T.index\n",
    "\n",
    "#diff\n",
    "\n",
    "#sns.barplot(diff['Vessels percentage area'],\n",
    "#           #estimator=np.mean, \n",
    "#            ci='sd',\n",
    "#            orient='v')\n",
    "\n",
    "#plt.title('Difference between wild type and mutant')\n",
    "\n",
    "#sns.barplot(merged_inner, estimator=np.mean)\n",
    "\n",
    "#plt.title('Difference between wild type and mutant')"
   ]
  },
  {
   "cell_type": "code",
   "execution_count": 19,
   "metadata": {},
   "outputs": [
    {
     "data": {
      "text/html": [
       "<div>\n",
       "<style scoped>\n",
       "    .dataframe tbody tr th:only-of-type {\n",
       "        vertical-align: middle;\n",
       "    }\n",
       "\n",
       "    .dataframe tbody tr th {\n",
       "        vertical-align: top;\n",
       "    }\n",
       "\n",
       "    .dataframe thead th {\n",
       "        text-align: right;\n",
       "    }\n",
       "</style>\n",
       "<table border=\"1\" class=\"dataframe\">\n",
       "  <thead>\n",
       "    <tr style=\"text-align: right;\">\n",
       "      <th></th>\n",
       "      <th>Genotype</th>\n",
       "      <th>Litter</th>\n",
       "      <th>Vessels percentage area</th>\n",
       "      <th>Total Number of Junctions</th>\n",
       "      <th>Total Vessels Length</th>\n",
       "      <th>Total Number of End Points</th>\n",
       "    </tr>\n",
       "  </thead>\n",
       "  <tbody>\n",
       "    <tr>\n",
       "      <th>0</th>\n",
       "      <td>+/+</td>\n",
       "      <td>35</td>\n",
       "      <td>60.59</td>\n",
       "      <td>153.00</td>\n",
       "      <td>15.53</td>\n",
       "      <td>20.67</td>\n",
       "    </tr>\n",
       "    <tr>\n",
       "      <th>1</th>\n",
       "      <td>DEE/DEE</td>\n",
       "      <td>35</td>\n",
       "      <td>53.62</td>\n",
       "      <td>132.33</td>\n",
       "      <td>13.57</td>\n",
       "      <td>38.67</td>\n",
       "    </tr>\n",
       "    <tr>\n",
       "      <th>2</th>\n",
       "      <td>+/+</td>\n",
       "      <td>36</td>\n",
       "      <td>64.30</td>\n",
       "      <td>171.67</td>\n",
       "      <td>16.09</td>\n",
       "      <td>26.33</td>\n",
       "    </tr>\n",
       "    <tr>\n",
       "      <th>3</th>\n",
       "      <td>DEE/DEE</td>\n",
       "      <td>36</td>\n",
       "      <td>62.15</td>\n",
       "      <td>136.83</td>\n",
       "      <td>14.42</td>\n",
       "      <td>31.17</td>\n",
       "    </tr>\n",
       "    <tr>\n",
       "      <th>4</th>\n",
       "      <td>+/+</td>\n",
       "      <td>37</td>\n",
       "      <td>58.68</td>\n",
       "      <td>110.00</td>\n",
       "      <td>13.10</td>\n",
       "      <td>25.33</td>\n",
       "    </tr>\n",
       "    <tr>\n",
       "      <th>5</th>\n",
       "      <td>DEE/+</td>\n",
       "      <td>37</td>\n",
       "      <td>61.73</td>\n",
       "      <td>161.00</td>\n",
       "      <td>15.67</td>\n",
       "      <td>32.50</td>\n",
       "    </tr>\n",
       "    <tr>\n",
       "      <th>6</th>\n",
       "      <td>DEE/DEE</td>\n",
       "      <td>37</td>\n",
       "      <td>54.29</td>\n",
       "      <td>98.33</td>\n",
       "      <td>12.67</td>\n",
       "      <td>27.67</td>\n",
       "    </tr>\n",
       "    <tr>\n",
       "      <th>7</th>\n",
       "      <td>+/+</td>\n",
       "      <td>40</td>\n",
       "      <td>55.96</td>\n",
       "      <td>177.00</td>\n",
       "      <td>16.09</td>\n",
       "      <td>46.83</td>\n",
       "    </tr>\n",
       "    <tr>\n",
       "      <th>8</th>\n",
       "      <td>DEE/+</td>\n",
       "      <td>40</td>\n",
       "      <td>51.47</td>\n",
       "      <td>111.25</td>\n",
       "      <td>12.85</td>\n",
       "      <td>32.25</td>\n",
       "    </tr>\n",
       "    <tr>\n",
       "      <th>9</th>\n",
       "      <td>DEE/DEE</td>\n",
       "      <td>40</td>\n",
       "      <td>51.08</td>\n",
       "      <td>116.40</td>\n",
       "      <td>13.23</td>\n",
       "      <td>34.20</td>\n",
       "    </tr>\n",
       "    <tr>\n",
       "      <th>10</th>\n",
       "      <td>+/+</td>\n",
       "      <td>41</td>\n",
       "      <td>49.74</td>\n",
       "      <td>106.20</td>\n",
       "      <td>11.68</td>\n",
       "      <td>39.80</td>\n",
       "    </tr>\n",
       "    <tr>\n",
       "      <th>11</th>\n",
       "      <td>DEE/DEE</td>\n",
       "      <td>41</td>\n",
       "      <td>49.87</td>\n",
       "      <td>91.33</td>\n",
       "      <td>11.32</td>\n",
       "      <td>40.67</td>\n",
       "    </tr>\n",
       "  </tbody>\n",
       "</table>\n",
       "</div>"
      ],
      "text/plain": [
       "   Genotype Litter  Vessels percentage area  Total Number of Junctions  \\\n",
       "0       +/+     35                    60.59                     153.00   \n",
       "1   DEE/DEE     35                    53.62                     132.33   \n",
       "2       +/+     36                    64.30                     171.67   \n",
       "3   DEE/DEE     36                    62.15                     136.83   \n",
       "4       +/+     37                    58.68                     110.00   \n",
       "5     DEE/+     37                    61.73                     161.00   \n",
       "6   DEE/DEE     37                    54.29                      98.33   \n",
       "7       +/+     40                    55.96                     177.00   \n",
       "8     DEE/+     40                    51.47                     111.25   \n",
       "9   DEE/DEE     40                    51.08                     116.40   \n",
       "10      +/+     41                    49.74                     106.20   \n",
       "11  DEE/DEE     41                    49.87                      91.33   \n",
       "\n",
       "    Total Vessels Length  Total Number of End Points  \n",
       "0                  15.53                       20.67  \n",
       "1                  13.57                       38.67  \n",
       "2                  16.09                       26.33  \n",
       "3                  14.42                       31.17  \n",
       "4                  13.10                       25.33  \n",
       "5                  15.67                       32.50  \n",
       "6                  12.67                       27.67  \n",
       "7                  16.09                       46.83  \n",
       "8                  12.85                       32.25  \n",
       "9                  13.23                       34.20  \n",
       "10                 11.68                       39.80  \n",
       "11                 11.32                       40.67  "
      ]
     },
     "execution_count": 19,
     "metadata": {},
     "output_type": "execute_result"
    }
   ],
   "source": [
    "data_mean = data_mean.reset_index(0).reset_index()\n",
    "\n",
    "#data_mean.index\n",
    "\n",
    "data_mean"
   ]
  },
  {
   "cell_type": "code",
   "execution_count": 87,
   "metadata": {
    "scrolled": false
   },
   "outputs": [
    {
     "data": {
      "image/png": "[encoded data removed]",
      "text/plain": [
       "<matplotlib.figure.Figure at 0xc223cf8>"
      ]
     },
     "metadata": {},
     "output_type": "display_data"
    }
   ],
   "source": [
    "## This is what you would do for an independent t-test\n",
    "## But we did a dependent t-test\n",
    "## IMO this should not be shown since it is highly misleading\n",
    "\n",
    "fig, axes = plt.subplots(nrows= 2, ncols=3, figsize = (16,9))\n",
    "ax = axes.ravel()\n",
    "\n",
    "parameters = ['Vessels percentage area', 'Total Vessels Length',\n",
    "             'Total Number of Junctions']\n",
    "\n",
    "with sns.plotting_context(\"notebook\", font_scale=1.5):\n",
    "    for i, parameter in enumerate(parameters): \n",
    "        g = sns.factorplot(x = 'Genotype',\n",
    "                           y = parameter ,\n",
    "                           #hue_order = ['+/+', 'DEE/DEE'],\n",
    "                           ci = 'sd',\n",
    "                           kind = 'bar',\n",
    "                           capsize = .1,\n",
    "                           data = data_mean,\n",
    "                           ax = ax[i]\n",
    "                          )\n",
    "        \n",
    "        _ = sns.barplot(diff[parameter],\n",
    "                        ci = 'sd',\n",
    "                        orient ='v',\n",
    "                        capsize = .05,\n",
    "                        ax = ax[i+3],\n",
    "                        color = sns.xkcd_rgb[\"wisteria\"],\n",
    "                        #alpha=0.9\n",
    "                       )\n",
    "        ### factorplot creates its own figure\n",
    "        ### But we can tell it to plot to a figure\n",
    "        ### as created outside this loop.\n",
    "        ### \n",
    "        ### If plt.close(g.fig) isn't called,\n",
    "        ### there will be blank figures.\n",
    "        plt.close(g.fig)\n"
   ]
  },
  {
   "cell_type": "code",
   "execution_count": 95,
   "metadata": {
    "scrolled": false
   },
   "outputs": [
    {
     "data": {
      "image/png": "[encoded data removed]",
      "text/plain": [
       "<matplotlib.figure.Figure at 0x10222710>"
      ]
     },
     "metadata": {},
     "output_type": "display_data"
    },
    {
     "data": {
      "image/png": "[encoded data removed]",
      "text/plain": [
       "<matplotlib.figure.Figure at 0x1025c240>"
      ]
     },
     "metadata": {},
     "output_type": "display_data"
    },
    {
     "data": {
      "image/png": "[encoded data removed]",
      "text/plain": [
       "<matplotlib.figure.Figure at 0x103bd2e8>"
      ]
     },
     "metadata": {},
     "output_type": "display_data"
    }
   ],
   "source": [
    "## Box plots of all \n",
    "\n",
    "def factorplot_by_litter_and_parameter(parameter_name):\n",
    "    _ = sns.factorplot(x = \"Litter\",\n",
    "                       y = parameter_name,\n",
    "                       hue = 'Genotype',\n",
    "                       hue_order = ['+/+', 'DEE/DEE'],\n",
    "                       data = merged_inner,\n",
    "                       kind ='box',\n",
    "                       ci='sd',\n",
    "                       size = 4.5,      # figsize\n",
    "                       aspect = 1.55, # of figure\n",
    "                       width = 0.6,   # of boxes\n",
    "                       legend_out = False\n",
    "                 )\n",
    "    sns.despine(trim=True)\n",
    "    \n",
    "\n",
    "\n",
    "with sns.plotting_context(\"notebook\", font_scale=1.25):\n",
    "    for parameter in parameters:\n",
    "        factorplot_by_litter_and_parameter(parameter)"
   ]
  },
  {
   "cell_type": "code",
   "execution_count": 88,
   "metadata": {},
   "outputs": [
    {
     "data": {
      "text/plain": [
       "<matplotlib.axes._subplots.AxesSubplot at 0xe00ca90>"
      ]
     },
     "execution_count": 88,
     "metadata": {},
     "output_type": "execute_result"
    },
    {
     "data": {
      "image/png": "[encoded data removed]",
      "text/plain": [
       "<matplotlib.figure.Figure at 0xee11710>"
      ]
     },
     "metadata": {},
     "output_type": "display_data"
    }
   ],
   "source": [
    "sns.pointplot(x = \"Litter\",\n",
    "                       y = \"Vessels percentage area\",\n",
    "                       hue = 'Genotype',\n",
    "                       hue_order = ['+/+', 'DEE/DEE'],\n",
    "                       data = merged_inner,\n",
    "              dodge=True,\n",
    "              ci='sd'\n",
    "                       #kind ='box',\n",
    "                       #size = 4.5,      # figsize\n",
    "                       #aspect = 1.55, # of figure\n",
    "                       #width = 0.6,   # of boxes\n",
    "                       #legend_out = False\n",
    "                 )"
   ]
  },
  {
   "cell_type": "code",
   "execution_count": 23,
   "metadata": {
    "scrolled": true
   },
   "outputs": [
    {
     "data": {
      "text/plain": [
       "Text(0.5,1,'Difference between wild type and mutant')"
      ]
     },
     "execution_count": 23,
     "metadata": {},
     "output_type": "execute_result"
    },
    {
     "data": {
      "image/png": "[encoded data removed]",
      "text/plain": [
       "<matplotlib.figure.Figure at 0xc9fe9e8>"
      ]
     },
     "metadata": {},
     "output_type": "display_data"
    }
   ],
   "source": [
    "sns.barplot(x = diff['Vessels percentage area'].index, \n",
    "             y = diff['Vessels percentage area'])\n",
    "\n",
    "plt.title('Difference between wild type and mutant')"
   ]
  },
  {
   "cell_type": "code",
   "execution_count": 89,
   "metadata": {},
   "outputs": [
    {
     "data": {
      "text/plain": [
       "<matplotlib.axes._subplots.AxesSubplot at 0xde9def0>"
      ]
     },
     "execution_count": 89,
     "metadata": {},
     "output_type": "execute_result"
    },
    {
     "data": {
      "image/png": "[encoded data removed]",
      "text/plain": [
       "<matplotlib.figure.Figure at 0xe00cf98>"
      ]
     },
     "metadata": {},
     "output_type": "display_data"
    }
   ],
   "source": [
    "fig, ax = plt.subplots(figsize=(8,8))\n",
    "\n",
    "### hue_order can be used to only use certain hues\n",
    "\n",
    "sns.barplot(x = \"Litter\", y=\"Vessels percentage area\",\n",
    "            hue='Genotype',\n",
    "            hue_order = ['+/+', 'DEE/DEE'],\n",
    "            ci = 'sd',\n",
    "            data=merged_inner,\n",
    "           palette=\"Set3\")"
   ]
  },
  {
   "cell_type": "markdown",
   "metadata": {},
   "source": [
    "If we want to be more truthful about having multiple images per litter animal, then we should show this."
   ]
  },
  {
   "cell_type": "code",
   "execution_count": 90,
   "metadata": {},
   "outputs": [
    {
     "data": {
      "text/plain": [
       "<matplotlib.axes._subplots.AxesSubplot at 0xde69b38>"
      ]
     },
     "execution_count": 90,
     "metadata": {},
     "output_type": "execute_result"
    },
    {
     "data": {
      "image/png": "[encoded data removed]",
      "text/plain": [
       "<matplotlib.figure.Figure at 0xe14c080>"
      ]
     },
     "metadata": {},
     "output_type": "display_data"
    }
   ],
   "source": [
    "fig, ax = plt.subplots(figsize=(8,8))\n",
    "sns.pointplot(x = \"Litter\",\n",
    "              y = \"Vessels percentage area\",\n",
    "              hue ='Genotype',\n",
    "              hue_order = ['+/+', 'DEE/DEE'],\n",
    "              ci = 'sd',\n",
    "              data = merged_inner,\n",
    "              markers = [\"^\", \"o\"],\n",
    "              #linestyles=[\"-\", \"--\"],\n",
    "              dodge=True,\n",
    "              join=False,\n",
    "              palette = \"Set1\"\n",
    "             )"
   ]
  },
  {
   "cell_type": "code",
   "execution_count": 92,
   "metadata": {
    "scrolled": false
   },
   "outputs": [
    {
     "data": {
      "text/plain": [
       "<matplotlib.axes._subplots.AxesSubplot at 0xbe98518>"
      ]
     },
     "execution_count": 92,
     "metadata": {},
     "output_type": "execute_result"
    },
    {
     "data": {
      "image/png": "[encoded data removed]",
      "text/plain": [
       "<matplotlib.figure.Figure at 0xbe70898>"
      ]
     },
     "metadata": {},
     "output_type": "display_data"
    }
   ],
   "source": [
    "fig, ax = plt.subplots(figsize=(5,5))\n",
    "sns.boxplot(x = \"Litter\", y=\"Vessels percentage area\",\n",
    "            hue='Genotype',\n",
    "              hue_order = ['+/+', 'DEE/DEE'],\n",
    "            data=merged_inner,\n",
    "              #linestyles=[\"-\", \"--\"],\n",
    "             #dodge=True\n",
    "            #notch=True\n",
    "            #width=0.25\n",
    "             )\n",
    "\n",
    "sns.swarmplot(x = \"Litter\", y=\"Vessels percentage area\",\n",
    "            hue='Genotype',\n",
    "              hue_order = ['+/+', 'DEE/DEE'],\n",
    "            data=merged_inner,\n",
    "             dodge=True,\n",
    "             color='k'\n",
    "             )"
   ]
  },
  {
   "cell_type": "code",
   "execution_count": 27,
   "metadata": {},
   "outputs": [
    {
     "data": {
      "text/plain": [
       "<matplotlib.axes._subplots.AxesSubplot at 0xc74aa90>"
      ]
     },
     "execution_count": 27,
     "metadata": {},
     "output_type": "execute_result"
    },
    {
     "data": {
      "image/png": "[encoded data removed]",
      "text/plain": [
       "<matplotlib.figure.Figure at 0xc6b2550>"
      ]
     },
     "metadata": {},
     "output_type": "display_data"
    }
   ],
   "source": [
    "fig, ax = plt.subplots(figsize=(8,8))\n",
    "sns.violinplot(x = \"Litter\", y=\"Vessels percentage area\",\n",
    "            hue='Genotype',\n",
    "              hue_order = ['+/+', 'DEE/DEE'],\n",
    "            data=merged_inner,\n",
    "              #linestyles=[\"-\", \"--\"],\n",
    "             #dodge=True\n",
    "               #split=True,\n",
    "               #inner='stick'\n",
    "             )"
   ]
  },
  {
   "cell_type": "code",
   "execution_count": 94,
   "metadata": {},
   "outputs": [
    {
     "data": {
      "text/plain": [
       "<seaborn.axisgrid.FacetGrid at 0xea5cb00>"
      ]
     },
     "execution_count": 94,
     "metadata": {},
     "output_type": "execute_result"
    },
    {
     "data": {
      "image/png": "[encoded data removed]",
      "text/plain": [
       "<matplotlib.figure.Figure at 0x102196a0>"
      ]
     },
     "metadata": {},
     "output_type": "display_data"
    }
   ],
   "source": [
    "sns.factorplot(x = \"Litter\", y=\"Vessels percentage area\",\n",
    "               hue='Genotype', data=merged_inner,\n",
    "              ci='sd',\n",
    "              dodge=True)"
   ]
  },
  {
   "cell_type": "code",
   "execution_count": 29,
   "metadata": {
    "collapsed": true,
    "scrolled": true
   },
   "outputs": [],
   "source": [
    "#sns.factorplot(x = \"Litter\", y=\"Vessels percentage area\",\n",
    "#               col = 'Genotype', data=merged_inner)"
   ]
  },
  {
   "cell_type": "code",
   "execution_count": null,
   "metadata": {
    "collapsed": true
   },
   "outputs": [],
   "source": []
  },
  {
   "cell_type": "code",
   "execution_count": 30,
   "metadata": {},
   "outputs": [
    {
     "name": "stdout",
     "output_type": "stream",
     "text": [
      "0.8.1\n"
     ]
    }
   ],
   "source": [
    "import seaborn\n",
    "\n",
    "print(seaborn.__version__)"
   ]
  },
  {
   "cell_type": "code",
   "execution_count": 31,
   "metadata": {},
   "outputs": [
    {
     "data": {
      "image/png": "[encoded data removed]",
      "text/plain": [
       "<matplotlib.figure.Figure at 0xc1794e0>"
      ]
     },
     "metadata": {},
     "output_type": "display_data"
    }
   ],
   "source": [
    "pd.concat(\n",
    "    [diff.mean().rename('diff')],\n",
    "    axis=1\n",
    ").plot.bar()\n",
    "plt.show()"
   ]
  },
  {
   "cell_type": "markdown",
   "metadata": {},
   "source": [
    "## Boxplots for different parameters"
   ]
  },
  {
   "cell_type": "code",
   "execution_count": 32,
   "metadata": {},
   "outputs": [
    {
     "data": {
      "image/png": "[encoded data removed]",
      "text/plain": [
       "<matplotlib.figure.Figure at 0xc4beef0>"
      ]
     },
     "metadata": {},
     "output_type": "display_data"
    }
   ],
   "source": [
    "import matplotlib.pyplot as plt\n",
    "import matplotlib\n",
    "matplotlib.style.use('ggplot')\n",
    "\n",
    "merged_inner.boxplot(column = ['Total Number of Junctions'],\n",
    "                     #by = ['Litter', 'Genotype'],\n",
    "                     by = ['Genotype', 'Litter'],\n",
    "                     figsize = (16,6)\n",
    "                    )\n",
    "plt.ylabel('Number of Junctions')\n",
    "plt.show()"
   ]
  },
  {
   "cell_type": "code",
   "execution_count": 33,
   "metadata": {},
   "outputs": [
    {
     "data": {
      "image/png": "[encoded data removed]",
      "text/plain": [
       "<matplotlib.figure.Figure at 0xc6106a0>"
      ]
     },
     "metadata": {},
     "output_type": "display_data"
    }
   ],
   "source": [
    "merged_inner.boxplot(column = ['Total Vessels Length'],\n",
    "                     by = ['Genotype', 'Litter'],\n",
    "                     figsize = (16,6)\n",
    "                    )\n",
    "plt.ylabel('Total Vessels Length [microns]')\n",
    "plt.show()"
   ]
  },
  {
   "cell_type": "code",
   "execution_count": 34,
   "metadata": {},
   "outputs": [
    {
     "data": {
      "image/png": "[encoded data removed]",
      "text/plain": [
       "<matplotlib.figure.Figure at 0xcd350b8>"
      ]
     },
     "metadata": {},
     "output_type": "display_data"
    }
   ],
   "source": [
    "merged_inner.boxplot(column = ['Vessels percentage area'],\n",
    "                     by = ['Genotype', 'Litter'],\n",
    "                     figsize = (16,6)\n",
    "                    )\n",
    "plt.ylabel('Vessel Density [% area]')\n",
    "plt.show()"
   ]
  },
  {
   "cell_type": "code",
   "execution_count": 35,
   "metadata": {},
   "outputs": [
    {
     "data": {
      "image/png": "[encoded data removed]",
      "text/plain": [
       "<matplotlib.figure.Figure at 0xde52eb8>"
      ]
     },
     "metadata": {},
     "output_type": "display_data"
    }
   ],
   "source": [
    "merged_inner.boxplot(column = ['Total Number of End Points'],\n",
    "                     by = ['Genotype', 'Litter'],\n",
    "                     figsize = (16,6)\n",
    "                    )\n",
    "plt.ylabel('Number of End Points')\n",
    "plt.show()"
   ]
  },
  {
   "cell_type": "markdown",
   "metadata": {},
   "source": [
    "## Comparison in Percentages\n",
    "\n",
    "The below table represents mutant values normalized to wild type in percentage."
   ]
  },
  {
   "cell_type": "code",
   "execution_count": 36,
   "metadata": {
    "scrolled": true
   },
   "outputs": [
    {
     "data": {
      "text/html": [
       "<div>\n",
       "<style scoped>\n",
       "    .dataframe tbody tr th:only-of-type {\n",
       "        vertical-align: middle;\n",
       "    }\n",
       "\n",
       "    .dataframe tbody tr th {\n",
       "        vertical-align: top;\n",
       "    }\n",
       "\n",
       "    .dataframe thead th {\n",
       "        text-align: right;\n",
       "    }\n",
       "</style>\n",
       "<table border=\"1\" class=\"dataframe\">\n",
       "  <thead>\n",
       "    <tr style=\"text-align: right;\">\n",
       "      <th></th>\n",
       "      <th>norm Vessels Density</th>\n",
       "      <th>norm Number of Junctions</th>\n",
       "      <th>norm Vessels Length</th>\n",
       "      <th>norm Number of End Points</th>\n",
       "    </tr>\n",
       "    <tr>\n",
       "      <th>Litter</th>\n",
       "      <th></th>\n",
       "      <th></th>\n",
       "      <th></th>\n",
       "      <th></th>\n",
       "    </tr>\n",
       "  </thead>\n",
       "  <tbody>\n",
       "    <tr>\n",
       "      <th>35</th>\n",
       "      <td>88.49</td>\n",
       "      <td>86.49</td>\n",
       "      <td>87.36</td>\n",
       "      <td>187.10</td>\n",
       "    </tr>\n",
       "    <tr>\n",
       "      <th>36</th>\n",
       "      <td>96.66</td>\n",
       "      <td>79.71</td>\n",
       "      <td>89.62</td>\n",
       "      <td>118.35</td>\n",
       "    </tr>\n",
       "    <tr>\n",
       "      <th>37</th>\n",
       "      <td>92.52</td>\n",
       "      <td>89.39</td>\n",
       "      <td>96.67</td>\n",
       "      <td>109.21</td>\n",
       "    </tr>\n",
       "    <tr>\n",
       "      <th>40</th>\n",
       "      <td>91.29</td>\n",
       "      <td>65.76</td>\n",
       "      <td>82.27</td>\n",
       "      <td>73.02</td>\n",
       "    </tr>\n",
       "    <tr>\n",
       "      <th>41</th>\n",
       "      <td>100.24</td>\n",
       "      <td>86.00</td>\n",
       "      <td>96.92</td>\n",
       "      <td>102.18</td>\n",
       "    </tr>\n",
       "  </tbody>\n",
       "</table>\n",
       "</div>"
      ],
      "text/plain": [
       "        norm Vessels Density  norm Number of Junctions  norm Vessels Length  \\\n",
       "Litter                                                                        \n",
       "35                     88.49                     86.49                87.36   \n",
       "36                     96.66                     79.71                89.62   \n",
       "37                     92.52                     89.39                96.67   \n",
       "40                     91.29                     65.76                82.27   \n",
       "41                    100.24                     86.00                96.92   \n",
       "\n",
       "        norm Number of End Points  \n",
       "Litter                             \n",
       "35                         187.10  \n",
       "36                         118.35  \n",
       "37                         109.21  \n",
       "40                          73.02  \n",
       "41                         102.18  "
      ]
     },
     "execution_count": 36,
     "metadata": {},
     "output_type": "execute_result"
    }
   ],
   "source": [
    "normdata = ((mutant / wild.values * 100)\n",
    "            .rename(\n",
    "                columns={\n",
    "                    'Vessels percentage area':'norm Vessels Density',\n",
    "                    'Total Number of Junctions':'norm Number of Junctions',\n",
    "                    'Total Vessels Length':'norm Vessels Length',\n",
    "                    'Total Number of End Points':'norm Number of End Points'}\n",
    "                    )\n",
    "            )\n",
    "\n",
    "#normdata.drop('Genotype', axis=0, level=1, inplace=True)\n",
    "#normdata.drop('Vessel Thickness', axis=0, level=1,inplace=True)\n",
    "#normdata[['norm Vessels Density','norm Number of Junctions', 'norm Vessels Length', 'norm Number of End Points']]\n",
    "pd.options.display.float_format = '{:,.2f}'.format\n",
    "normdata\n",
    "\n"
   ]
  },
  {
   "cell_type": "code",
   "execution_count": 37,
   "metadata": {},
   "outputs": [
    {
     "data": {
      "text/html": [
       "<div>\n",
       "<style scoped>\n",
       "    .dataframe tbody tr th:only-of-type {\n",
       "        vertical-align: middle;\n",
       "    }\n",
       "\n",
       "    .dataframe tbody tr th {\n",
       "        vertical-align: top;\n",
       "    }\n",
       "\n",
       "    .dataframe thead th {\n",
       "        text-align: right;\n",
       "    }\n",
       "</style>\n",
       "<table border=\"1\" class=\"dataframe\">\n",
       "  <thead>\n",
       "    <tr style=\"text-align: right;\">\n",
       "      <th></th>\n",
       "      <th>Genotype</th>\n",
       "      <th>Litter</th>\n",
       "      <th>Vessels percentage area</th>\n",
       "      <th>Total Number of Junctions</th>\n",
       "      <th>Total Vessels Length</th>\n",
       "      <th>Total Number of End Points</th>\n",
       "    </tr>\n",
       "  </thead>\n",
       "  <tbody>\n",
       "    <tr>\n",
       "      <th>0</th>\n",
       "      <td>+/+</td>\n",
       "      <td>35</td>\n",
       "      <td>60.59</td>\n",
       "      <td>153.00</td>\n",
       "      <td>15.53</td>\n",
       "      <td>20.67</td>\n",
       "    </tr>\n",
       "    <tr>\n",
       "      <th>1</th>\n",
       "      <td>DEE/DEE</td>\n",
       "      <td>35</td>\n",
       "      <td>53.62</td>\n",
       "      <td>132.33</td>\n",
       "      <td>13.57</td>\n",
       "      <td>38.67</td>\n",
       "    </tr>\n",
       "    <tr>\n",
       "      <th>2</th>\n",
       "      <td>+/+</td>\n",
       "      <td>36</td>\n",
       "      <td>64.30</td>\n",
       "      <td>171.67</td>\n",
       "      <td>16.09</td>\n",
       "      <td>26.33</td>\n",
       "    </tr>\n",
       "    <tr>\n",
       "      <th>3</th>\n",
       "      <td>DEE/DEE</td>\n",
       "      <td>36</td>\n",
       "      <td>62.15</td>\n",
       "      <td>136.83</td>\n",
       "      <td>14.42</td>\n",
       "      <td>31.17</td>\n",
       "    </tr>\n",
       "    <tr>\n",
       "      <th>4</th>\n",
       "      <td>+/+</td>\n",
       "      <td>37</td>\n",
       "      <td>58.68</td>\n",
       "      <td>110.00</td>\n",
       "      <td>13.10</td>\n",
       "      <td>25.33</td>\n",
       "    </tr>\n",
       "    <tr>\n",
       "      <th>5</th>\n",
       "      <td>DEE/+</td>\n",
       "      <td>37</td>\n",
       "      <td>61.73</td>\n",
       "      <td>161.00</td>\n",
       "      <td>15.67</td>\n",
       "      <td>32.50</td>\n",
       "    </tr>\n",
       "    <tr>\n",
       "      <th>6</th>\n",
       "      <td>DEE/DEE</td>\n",
       "      <td>37</td>\n",
       "      <td>54.29</td>\n",
       "      <td>98.33</td>\n",
       "      <td>12.67</td>\n",
       "      <td>27.67</td>\n",
       "    </tr>\n",
       "    <tr>\n",
       "      <th>7</th>\n",
       "      <td>+/+</td>\n",
       "      <td>40</td>\n",
       "      <td>55.96</td>\n",
       "      <td>177.00</td>\n",
       "      <td>16.09</td>\n",
       "      <td>46.83</td>\n",
       "    </tr>\n",
       "    <tr>\n",
       "      <th>8</th>\n",
       "      <td>DEE/+</td>\n",
       "      <td>40</td>\n",
       "      <td>51.47</td>\n",
       "      <td>111.25</td>\n",
       "      <td>12.85</td>\n",
       "      <td>32.25</td>\n",
       "    </tr>\n",
       "    <tr>\n",
       "      <th>9</th>\n",
       "      <td>DEE/DEE</td>\n",
       "      <td>40</td>\n",
       "      <td>51.08</td>\n",
       "      <td>116.40</td>\n",
       "      <td>13.23</td>\n",
       "      <td>34.20</td>\n",
       "    </tr>\n",
       "    <tr>\n",
       "      <th>10</th>\n",
       "      <td>+/+</td>\n",
       "      <td>41</td>\n",
       "      <td>49.74</td>\n",
       "      <td>106.20</td>\n",
       "      <td>11.68</td>\n",
       "      <td>39.80</td>\n",
       "    </tr>\n",
       "    <tr>\n",
       "      <th>11</th>\n",
       "      <td>DEE/DEE</td>\n",
       "      <td>41</td>\n",
       "      <td>49.87</td>\n",
       "      <td>91.33</td>\n",
       "      <td>11.32</td>\n",
       "      <td>40.67</td>\n",
       "    </tr>\n",
       "  </tbody>\n",
       "</table>\n",
       "</div>"
      ],
      "text/plain": [
       "   Genotype Litter  Vessels percentage area  Total Number of Junctions  \\\n",
       "0       +/+     35                    60.59                     153.00   \n",
       "1   DEE/DEE     35                    53.62                     132.33   \n",
       "2       +/+     36                    64.30                     171.67   \n",
       "3   DEE/DEE     36                    62.15                     136.83   \n",
       "4       +/+     37                    58.68                     110.00   \n",
       "5     DEE/+     37                    61.73                     161.00   \n",
       "6   DEE/DEE     37                    54.29                      98.33   \n",
       "7       +/+     40                    55.96                     177.00   \n",
       "8     DEE/+     40                    51.47                     111.25   \n",
       "9   DEE/DEE     40                    51.08                     116.40   \n",
       "10      +/+     41                    49.74                     106.20   \n",
       "11  DEE/DEE     41                    49.87                      91.33   \n",
       "\n",
       "    Total Vessels Length  Total Number of End Points  \n",
       "0                  15.53                       20.67  \n",
       "1                  13.57                       38.67  \n",
       "2                  16.09                       26.33  \n",
       "3                  14.42                       31.17  \n",
       "4                  13.10                       25.33  \n",
       "5                  15.67                       32.50  \n",
       "6                  12.67                       27.67  \n",
       "7                  16.09                       46.83  \n",
       "8                  12.85                       32.25  \n",
       "9                  13.23                       34.20  \n",
       "10                 11.68                       39.80  \n",
       "11                 11.32                       40.67  "
      ]
     },
     "execution_count": 37,
     "metadata": {},
     "output_type": "execute_result"
    }
   ],
   "source": [
    "data_mean"
   ]
  },
  {
   "cell_type": "code",
   "execution_count": 38,
   "metadata": {},
   "outputs": [
    {
     "data": {
      "text/plain": [
       "norm Vessels Density         93.84\n",
       "norm Number of Junctions     81.47\n",
       "norm Vessels Length          90.57\n",
       "norm Number of End Points   117.97\n",
       "dtype: float64"
      ]
     },
     "execution_count": 38,
     "metadata": {},
     "output_type": "execute_result"
    }
   ],
   "source": [
    "normdata.mean()"
   ]
  },
  {
   "cell_type": "code",
   "execution_count": 39,
   "metadata": {},
   "outputs": [
    {
     "data": {
      "text/plain": [
       "norm Vessels Density         4.63\n",
       "norm Number of Junctions     9.47\n",
       "norm Vessels Length          6.28\n",
       "norm Number of End Points   42.20\n",
       "dtype: float64"
      ]
     },
     "execution_count": 39,
     "metadata": {},
     "output_type": "execute_result"
    }
   ],
   "source": [
    "normdata.std()"
   ]
  },
  {
   "cell_type": "code",
   "execution_count": 79,
   "metadata": {},
   "outputs": [
    {
     "data": {
      "text/plain": [
       "<matplotlib.axes._subplots.AxesSubplot at 0xeb932e8>"
      ]
     },
     "execution_count": 79,
     "metadata": {},
     "output_type": "execute_result"
    },
    {
     "data": {
      "image/png": "[encoded data removed]",
      "text/plain": [
       "<matplotlib.figure.Figure at 0xe8f45f8>"
      ]
     },
     "metadata": {},
     "output_type": "display_data"
    }
   ],
   "source": [
    "sns.barplot(\n",
    "    data = normdata[['norm Vessels Density',\n",
    "                     'norm Number of Junctions',\n",
    "                     'norm Vessels Length']],\n",
    "ci=68\n",
    ")"
   ]
  },
  {
   "cell_type": "markdown",
   "metadata": {},
   "source": [
    "## Mean and std for different variables in different litters\n",
    "\n",
    "If you want to look at the numbers after averaging, here they are."
   ]
  },
  {
   "cell_type": "code",
   "execution_count": 41,
   "metadata": {
    "scrolled": false
   },
   "outputs": [
    {
     "data": {
      "text/html": [
       "<div>\n",
       "<style scoped>\n",
       "    .dataframe tbody tr th:only-of-type {\n",
       "        vertical-align: middle;\n",
       "    }\n",
       "\n",
       "    .dataframe tbody tr th {\n",
       "        vertical-align: top;\n",
       "    }\n",
       "\n",
       "    .dataframe thead th {\n",
       "        text-align: right;\n",
       "    }\n",
       "</style>\n",
       "<table border=\"1\" class=\"dataframe\">\n",
       "  <thead>\n",
       "    <tr style=\"text-align: right;\">\n",
       "      <th></th>\n",
       "      <th></th>\n",
       "      <th>count</th>\n",
       "      <th>mean</th>\n",
       "      <th>std</th>\n",
       "      <th>min</th>\n",
       "      <th>25%</th>\n",
       "      <th>50%</th>\n",
       "      <th>75%</th>\n",
       "      <th>max</th>\n",
       "    </tr>\n",
       "    <tr>\n",
       "      <th>Litter</th>\n",
       "      <th>Genotype</th>\n",
       "      <th></th>\n",
       "      <th></th>\n",
       "      <th></th>\n",
       "      <th></th>\n",
       "      <th></th>\n",
       "      <th></th>\n",
       "      <th></th>\n",
       "      <th></th>\n",
       "    </tr>\n",
       "  </thead>\n",
       "  <tbody>\n",
       "    <tr>\n",
       "      <th rowspan=\"2\" valign=\"top\">35</th>\n",
       "      <th>+/+</th>\n",
       "      <td>3.00</td>\n",
       "      <td>20.67</td>\n",
       "      <td>7.23</td>\n",
       "      <td>16.00</td>\n",
       "      <td>16.50</td>\n",
       "      <td>17.00</td>\n",
       "      <td>23.00</td>\n",
       "      <td>29.00</td>\n",
       "    </tr>\n",
       "    <tr>\n",
       "      <th>DEE/DEE</th>\n",
       "      <td>3.00</td>\n",
       "      <td>38.67</td>\n",
       "      <td>7.64</td>\n",
       "      <td>32.00</td>\n",
       "      <td>34.50</td>\n",
       "      <td>37.00</td>\n",
       "      <td>42.00</td>\n",
       "      <td>47.00</td>\n",
       "    </tr>\n",
       "    <tr>\n",
       "      <th rowspan=\"2\" valign=\"top\">36</th>\n",
       "      <th>+/+</th>\n",
       "      <td>3.00</td>\n",
       "      <td>26.33</td>\n",
       "      <td>3.51</td>\n",
       "      <td>23.00</td>\n",
       "      <td>24.50</td>\n",
       "      <td>26.00</td>\n",
       "      <td>28.00</td>\n",
       "      <td>30.00</td>\n",
       "    </tr>\n",
       "    <tr>\n",
       "      <th>DEE/DEE</th>\n",
       "      <td>6.00</td>\n",
       "      <td>31.17</td>\n",
       "      <td>5.71</td>\n",
       "      <td>27.00</td>\n",
       "      <td>27.25</td>\n",
       "      <td>28.00</td>\n",
       "      <td>35.50</td>\n",
       "      <td>39.00</td>\n",
       "    </tr>\n",
       "    <tr>\n",
       "      <th rowspan=\"3\" valign=\"top\">37</th>\n",
       "      <th>+/+</th>\n",
       "      <td>3.00</td>\n",
       "      <td>25.33</td>\n",
       "      <td>9.81</td>\n",
       "      <td>14.00</td>\n",
       "      <td>22.50</td>\n",
       "      <td>31.00</td>\n",
       "      <td>31.00</td>\n",
       "      <td>31.00</td>\n",
       "    </tr>\n",
       "    <tr>\n",
       "      <th>DEE/+</th>\n",
       "      <td>2.00</td>\n",
       "      <td>32.50</td>\n",
       "      <td>12.02</td>\n",
       "      <td>24.00</td>\n",
       "      <td>28.25</td>\n",
       "      <td>32.50</td>\n",
       "      <td>36.75</td>\n",
       "      <td>41.00</td>\n",
       "    </tr>\n",
       "    <tr>\n",
       "      <th>DEE/DEE</th>\n",
       "      <td>3.00</td>\n",
       "      <td>27.67</td>\n",
       "      <td>8.14</td>\n",
       "      <td>22.00</td>\n",
       "      <td>23.00</td>\n",
       "      <td>24.00</td>\n",
       "      <td>30.50</td>\n",
       "      <td>37.00</td>\n",
       "    </tr>\n",
       "    <tr>\n",
       "      <th rowspan=\"3\" valign=\"top\">40</th>\n",
       "      <th>+/+</th>\n",
       "      <td>6.00</td>\n",
       "      <td>46.83</td>\n",
       "      <td>6.01</td>\n",
       "      <td>36.00</td>\n",
       "      <td>45.50</td>\n",
       "      <td>48.00</td>\n",
       "      <td>50.50</td>\n",
       "      <td>53.00</td>\n",
       "    </tr>\n",
       "    <tr>\n",
       "      <th>DEE/+</th>\n",
       "      <td>4.00</td>\n",
       "      <td>32.25</td>\n",
       "      <td>6.08</td>\n",
       "      <td>25.00</td>\n",
       "      <td>28.75</td>\n",
       "      <td>32.50</td>\n",
       "      <td>36.00</td>\n",
       "      <td>39.00</td>\n",
       "    </tr>\n",
       "    <tr>\n",
       "      <th>DEE/DEE</th>\n",
       "      <td>5.00</td>\n",
       "      <td>34.20</td>\n",
       "      <td>5.07</td>\n",
       "      <td>29.00</td>\n",
       "      <td>30.00</td>\n",
       "      <td>33.00</td>\n",
       "      <td>39.00</td>\n",
       "      <td>40.00</td>\n",
       "    </tr>\n",
       "    <tr>\n",
       "      <th rowspan=\"2\" valign=\"top\">41</th>\n",
       "      <th>+/+</th>\n",
       "      <td>5.00</td>\n",
       "      <td>39.80</td>\n",
       "      <td>8.50</td>\n",
       "      <td>30.00</td>\n",
       "      <td>32.00</td>\n",
       "      <td>43.00</td>\n",
       "      <td>44.00</td>\n",
       "      <td>50.00</td>\n",
       "    </tr>\n",
       "    <tr>\n",
       "      <th>DEE/DEE</th>\n",
       "      <td>3.00</td>\n",
       "      <td>40.67</td>\n",
       "      <td>6.81</td>\n",
       "      <td>33.00</td>\n",
       "      <td>38.00</td>\n",
       "      <td>43.00</td>\n",
       "      <td>44.50</td>\n",
       "      <td>46.00</td>\n",
       "    </tr>\n",
       "  </tbody>\n",
       "</table>\n",
       "</div>"
      ],
      "text/plain": [
       "                 count  mean   std   min   25%   50%   75%   max\n",
       "Litter Genotype                                                 \n",
       "35     +/+        3.00 20.67  7.23 16.00 16.50 17.00 23.00 29.00\n",
       "       DEE/DEE    3.00 38.67  7.64 32.00 34.50 37.00 42.00 47.00\n",
       "36     +/+        3.00 26.33  3.51 23.00 24.50 26.00 28.00 30.00\n",
       "       DEE/DEE    6.00 31.17  5.71 27.00 27.25 28.00 35.50 39.00\n",
       "37     +/+        3.00 25.33  9.81 14.00 22.50 31.00 31.00 31.00\n",
       "       DEE/+      2.00 32.50 12.02 24.00 28.25 32.50 36.75 41.00\n",
       "       DEE/DEE    3.00 27.67  8.14 22.00 23.00 24.00 30.50 37.00\n",
       "40     +/+        6.00 46.83  6.01 36.00 45.50 48.00 50.50 53.00\n",
       "       DEE/+      4.00 32.25  6.08 25.00 28.75 32.50 36.00 39.00\n",
       "       DEE/DEE    5.00 34.20  5.07 29.00 30.00 33.00 39.00 40.00\n",
       "41     +/+        5.00 39.80  8.50 30.00 32.00 43.00 44.00 50.00\n",
       "       DEE/DEE    3.00 40.67  6.81 33.00 38.00 43.00 44.50 46.00"
      ]
     },
     "execution_count": 41,
     "metadata": {},
     "output_type": "execute_result"
    }
   ],
   "source": [
    "(merged_inner.groupby(['Litter', 'Genotype'])\n",
    "                     ['Total Number of End Points']\n",
    "                     .describe()\n",
    ")"
   ]
  },
  {
   "cell_type": "code",
   "execution_count": 42,
   "metadata": {
    "scrolled": false
   },
   "outputs": [
    {
     "data": {
      "text/html": [
       "<div>\n",
       "<style scoped>\n",
       "    .dataframe tbody tr th:only-of-type {\n",
       "        vertical-align: middle;\n",
       "    }\n",
       "\n",
       "    .dataframe tbody tr th {\n",
       "        vertical-align: top;\n",
       "    }\n",
       "\n",
       "    .dataframe thead th {\n",
       "        text-align: right;\n",
       "    }\n",
       "</style>\n",
       "<table border=\"1\" class=\"dataframe\">\n",
       "  <thead>\n",
       "    <tr style=\"text-align: right;\">\n",
       "      <th></th>\n",
       "      <th></th>\n",
       "      <th>count</th>\n",
       "      <th>mean</th>\n",
       "      <th>std</th>\n",
       "      <th>min</th>\n",
       "      <th>25%</th>\n",
       "      <th>50%</th>\n",
       "      <th>75%</th>\n",
       "      <th>max</th>\n",
       "    </tr>\n",
       "    <tr>\n",
       "      <th>Litter</th>\n",
       "      <th>Genotype</th>\n",
       "      <th></th>\n",
       "      <th></th>\n",
       "      <th></th>\n",
       "      <th></th>\n",
       "      <th></th>\n",
       "      <th></th>\n",
       "      <th></th>\n",
       "      <th></th>\n",
       "    </tr>\n",
       "  </thead>\n",
       "  <tbody>\n",
       "    <tr>\n",
       "      <th rowspan=\"2\" valign=\"top\">35</th>\n",
       "      <th>+/+</th>\n",
       "      <td>3.00</td>\n",
       "      <td>60.59</td>\n",
       "      <td>4.96</td>\n",
       "      <td>55.25</td>\n",
       "      <td>58.37</td>\n",
       "      <td>61.50</td>\n",
       "      <td>63.27</td>\n",
       "      <td>65.03</td>\n",
       "    </tr>\n",
       "    <tr>\n",
       "      <th>DEE/DEE</th>\n",
       "      <td>3.00</td>\n",
       "      <td>53.62</td>\n",
       "      <td>1.76</td>\n",
       "      <td>51.73</td>\n",
       "      <td>52.82</td>\n",
       "      <td>53.91</td>\n",
       "      <td>54.56</td>\n",
       "      <td>55.22</td>\n",
       "    </tr>\n",
       "    <tr>\n",
       "      <th rowspan=\"2\" valign=\"top\">36</th>\n",
       "      <th>+/+</th>\n",
       "      <td>3.00</td>\n",
       "      <td>64.30</td>\n",
       "      <td>2.31</td>\n",
       "      <td>62.81</td>\n",
       "      <td>62.97</td>\n",
       "      <td>63.13</td>\n",
       "      <td>65.04</td>\n",
       "      <td>66.96</td>\n",
       "    </tr>\n",
       "    <tr>\n",
       "      <th>DEE/DEE</th>\n",
       "      <td>6.00</td>\n",
       "      <td>62.15</td>\n",
       "      <td>1.86</td>\n",
       "      <td>60.14</td>\n",
       "      <td>60.83</td>\n",
       "      <td>61.98</td>\n",
       "      <td>62.81</td>\n",
       "      <td>65.27</td>\n",
       "    </tr>\n",
       "    <tr>\n",
       "      <th rowspan=\"3\" valign=\"top\">37</th>\n",
       "      <th>+/+</th>\n",
       "      <td>3.00</td>\n",
       "      <td>58.68</td>\n",
       "      <td>2.96</td>\n",
       "      <td>55.29</td>\n",
       "      <td>57.66</td>\n",
       "      <td>60.02</td>\n",
       "      <td>60.38</td>\n",
       "      <td>60.73</td>\n",
       "    </tr>\n",
       "    <tr>\n",
       "      <th>DEE/+</th>\n",
       "      <td>2.00</td>\n",
       "      <td>61.73</td>\n",
       "      <td>5.38</td>\n",
       "      <td>57.92</td>\n",
       "      <td>59.83</td>\n",
       "      <td>61.73</td>\n",
       "      <td>63.63</td>\n",
       "      <td>65.54</td>\n",
       "    </tr>\n",
       "    <tr>\n",
       "      <th>DEE/DEE</th>\n",
       "      <td>3.00</td>\n",
       "      <td>54.29</td>\n",
       "      <td>7.47</td>\n",
       "      <td>48.76</td>\n",
       "      <td>50.04</td>\n",
       "      <td>51.32</td>\n",
       "      <td>57.06</td>\n",
       "      <td>62.79</td>\n",
       "    </tr>\n",
       "    <tr>\n",
       "      <th rowspan=\"3\" valign=\"top\">40</th>\n",
       "      <th>+/+</th>\n",
       "      <td>6.00</td>\n",
       "      <td>55.96</td>\n",
       "      <td>3.04</td>\n",
       "      <td>52.12</td>\n",
       "      <td>53.63</td>\n",
       "      <td>56.27</td>\n",
       "      <td>57.76</td>\n",
       "      <td>60.07</td>\n",
       "    </tr>\n",
       "    <tr>\n",
       "      <th>DEE/+</th>\n",
       "      <td>4.00</td>\n",
       "      <td>51.47</td>\n",
       "      <td>3.82</td>\n",
       "      <td>46.53</td>\n",
       "      <td>49.46</td>\n",
       "      <td>52.22</td>\n",
       "      <td>54.23</td>\n",
       "      <td>54.94</td>\n",
       "    </tr>\n",
       "    <tr>\n",
       "      <th>DEE/DEE</th>\n",
       "      <td>5.00</td>\n",
       "      <td>51.08</td>\n",
       "      <td>2.04</td>\n",
       "      <td>47.50</td>\n",
       "      <td>51.34</td>\n",
       "      <td>52.04</td>\n",
       "      <td>52.18</td>\n",
       "      <td>52.35</td>\n",
       "    </tr>\n",
       "    <tr>\n",
       "      <th rowspan=\"2\" valign=\"top\">41</th>\n",
       "      <th>+/+</th>\n",
       "      <td>5.00</td>\n",
       "      <td>49.74</td>\n",
       "      <td>4.64</td>\n",
       "      <td>43.90</td>\n",
       "      <td>48.30</td>\n",
       "      <td>49.42</td>\n",
       "      <td>50.33</td>\n",
       "      <td>56.77</td>\n",
       "    </tr>\n",
       "    <tr>\n",
       "      <th>DEE/DEE</th>\n",
       "      <td>3.00</td>\n",
       "      <td>49.87</td>\n",
       "      <td>1.52</td>\n",
       "      <td>48.60</td>\n",
       "      <td>49.02</td>\n",
       "      <td>49.45</td>\n",
       "      <td>50.50</td>\n",
       "      <td>51.55</td>\n",
       "    </tr>\n",
       "  </tbody>\n",
       "</table>\n",
       "</div>"
      ],
      "text/plain": [
       "                 count  mean  std   min   25%   50%   75%   max\n",
       "Litter Genotype                                                \n",
       "35     +/+        3.00 60.59 4.96 55.25 58.37 61.50 63.27 65.03\n",
       "       DEE/DEE    3.00 53.62 1.76 51.73 52.82 53.91 54.56 55.22\n",
       "36     +/+        3.00 64.30 2.31 62.81 62.97 63.13 65.04 66.96\n",
       "       DEE/DEE    6.00 62.15 1.86 60.14 60.83 61.98 62.81 65.27\n",
       "37     +/+        3.00 58.68 2.96 55.29 57.66 60.02 60.38 60.73\n",
       "       DEE/+      2.00 61.73 5.38 57.92 59.83 61.73 63.63 65.54\n",
       "       DEE/DEE    3.00 54.29 7.47 48.76 50.04 51.32 57.06 62.79\n",
       "40     +/+        6.00 55.96 3.04 52.12 53.63 56.27 57.76 60.07\n",
       "       DEE/+      4.00 51.47 3.82 46.53 49.46 52.22 54.23 54.94\n",
       "       DEE/DEE    5.00 51.08 2.04 47.50 51.34 52.04 52.18 52.35\n",
       "41     +/+        5.00 49.74 4.64 43.90 48.30 49.42 50.33 56.77\n",
       "       DEE/DEE    3.00 49.87 1.52 48.60 49.02 49.45 50.50 51.55"
      ]
     },
     "execution_count": 42,
     "metadata": {},
     "output_type": "execute_result"
    }
   ],
   "source": [
    "(merged_inner.groupby(['Litter', 'Genotype'])\n",
    "                     ['Vessels percentage area']\n",
    "                     .describe()\n",
    ")"
   ]
  },
  {
   "cell_type": "code",
   "execution_count": 43,
   "metadata": {
    "scrolled": false
   },
   "outputs": [
    {
     "data": {
      "text/html": [
       "<div>\n",
       "<style scoped>\n",
       "    .dataframe tbody tr th:only-of-type {\n",
       "        vertical-align: middle;\n",
       "    }\n",
       "\n",
       "    .dataframe tbody tr th {\n",
       "        vertical-align: top;\n",
       "    }\n",
       "\n",
       "    .dataframe thead th {\n",
       "        text-align: right;\n",
       "    }\n",
       "</style>\n",
       "<table border=\"1\" class=\"dataframe\">\n",
       "  <thead>\n",
       "    <tr style=\"text-align: right;\">\n",
       "      <th></th>\n",
       "      <th></th>\n",
       "      <th>count</th>\n",
       "      <th>mean</th>\n",
       "      <th>std</th>\n",
       "      <th>min</th>\n",
       "      <th>25%</th>\n",
       "      <th>50%</th>\n",
       "      <th>75%</th>\n",
       "      <th>max</th>\n",
       "    </tr>\n",
       "    <tr>\n",
       "      <th>Litter</th>\n",
       "      <th>Genotype</th>\n",
       "      <th></th>\n",
       "      <th></th>\n",
       "      <th></th>\n",
       "      <th></th>\n",
       "      <th></th>\n",
       "      <th></th>\n",
       "      <th></th>\n",
       "      <th></th>\n",
       "    </tr>\n",
       "  </thead>\n",
       "  <tbody>\n",
       "    <tr>\n",
       "      <th rowspan=\"2\" valign=\"top\">35</th>\n",
       "      <th>+/+</th>\n",
       "      <td>3.00</td>\n",
       "      <td>153.00</td>\n",
       "      <td>32.19</td>\n",
       "      <td>119.00</td>\n",
       "      <td>138.00</td>\n",
       "      <td>157.00</td>\n",
       "      <td>170.00</td>\n",
       "      <td>183.00</td>\n",
       "    </tr>\n",
       "    <tr>\n",
       "      <th>DEE/DEE</th>\n",
       "      <td>3.00</td>\n",
       "      <td>132.33</td>\n",
       "      <td>6.66</td>\n",
       "      <td>125.00</td>\n",
       "      <td>129.50</td>\n",
       "      <td>134.00</td>\n",
       "      <td>136.00</td>\n",
       "      <td>138.00</td>\n",
       "    </tr>\n",
       "    <tr>\n",
       "      <th rowspan=\"2\" valign=\"top\">36</th>\n",
       "      <th>+/+</th>\n",
       "      <td>3.00</td>\n",
       "      <td>171.67</td>\n",
       "      <td>29.54</td>\n",
       "      <td>143.00</td>\n",
       "      <td>156.50</td>\n",
       "      <td>170.00</td>\n",
       "      <td>186.00</td>\n",
       "      <td>202.00</td>\n",
       "    </tr>\n",
       "    <tr>\n",
       "      <th>DEE/DEE</th>\n",
       "      <td>6.00</td>\n",
       "      <td>136.83</td>\n",
       "      <td>30.67</td>\n",
       "      <td>87.00</td>\n",
       "      <td>121.75</td>\n",
       "      <td>148.00</td>\n",
       "      <td>154.00</td>\n",
       "      <td>169.00</td>\n",
       "    </tr>\n",
       "    <tr>\n",
       "      <th rowspan=\"3\" valign=\"top\">37</th>\n",
       "      <th>+/+</th>\n",
       "      <td>3.00</td>\n",
       "      <td>110.00</td>\n",
       "      <td>19.29</td>\n",
       "      <td>96.00</td>\n",
       "      <td>99.00</td>\n",
       "      <td>102.00</td>\n",
       "      <td>117.00</td>\n",
       "      <td>132.00</td>\n",
       "    </tr>\n",
       "    <tr>\n",
       "      <th>DEE/+</th>\n",
       "      <td>2.00</td>\n",
       "      <td>161.00</td>\n",
       "      <td>2.83</td>\n",
       "      <td>159.00</td>\n",
       "      <td>160.00</td>\n",
       "      <td>161.00</td>\n",
       "      <td>162.00</td>\n",
       "      <td>163.00</td>\n",
       "    </tr>\n",
       "    <tr>\n",
       "      <th>DEE/DEE</th>\n",
       "      <td>3.00</td>\n",
       "      <td>98.33</td>\n",
       "      <td>31.79</td>\n",
       "      <td>73.00</td>\n",
       "      <td>80.50</td>\n",
       "      <td>88.00</td>\n",
       "      <td>111.00</td>\n",
       "      <td>134.00</td>\n",
       "    </tr>\n",
       "    <tr>\n",
       "      <th rowspan=\"3\" valign=\"top\">40</th>\n",
       "      <th>+/+</th>\n",
       "      <td>6.00</td>\n",
       "      <td>177.00</td>\n",
       "      <td>21.49</td>\n",
       "      <td>147.00</td>\n",
       "      <td>160.50</td>\n",
       "      <td>184.00</td>\n",
       "      <td>193.25</td>\n",
       "      <td>198.00</td>\n",
       "    </tr>\n",
       "    <tr>\n",
       "      <th>DEE/+</th>\n",
       "      <td>4.00</td>\n",
       "      <td>111.25</td>\n",
       "      <td>14.93</td>\n",
       "      <td>101.00</td>\n",
       "      <td>101.75</td>\n",
       "      <td>105.50</td>\n",
       "      <td>115.00</td>\n",
       "      <td>133.00</td>\n",
       "    </tr>\n",
       "    <tr>\n",
       "      <th>DEE/DEE</th>\n",
       "      <td>5.00</td>\n",
       "      <td>116.40</td>\n",
       "      <td>23.07</td>\n",
       "      <td>94.00</td>\n",
       "      <td>102.00</td>\n",
       "      <td>107.00</td>\n",
       "      <td>128.00</td>\n",
       "      <td>151.00</td>\n",
       "    </tr>\n",
       "    <tr>\n",
       "      <th rowspan=\"2\" valign=\"top\">41</th>\n",
       "      <th>+/+</th>\n",
       "      <td>5.00</td>\n",
       "      <td>106.20</td>\n",
       "      <td>31.03</td>\n",
       "      <td>68.00</td>\n",
       "      <td>87.00</td>\n",
       "      <td>107.00</td>\n",
       "      <td>120.00</td>\n",
       "      <td>149.00</td>\n",
       "    </tr>\n",
       "    <tr>\n",
       "      <th>DEE/DEE</th>\n",
       "      <td>3.00</td>\n",
       "      <td>91.33</td>\n",
       "      <td>25.58</td>\n",
       "      <td>62.00</td>\n",
       "      <td>82.50</td>\n",
       "      <td>103.00</td>\n",
       "      <td>106.00</td>\n",
       "      <td>109.00</td>\n",
       "    </tr>\n",
       "  </tbody>\n",
       "</table>\n",
       "</div>"
      ],
      "text/plain": [
       "                 count   mean   std    min    25%    50%    75%    max\n",
       "Litter Genotype                                                       \n",
       "35     +/+        3.00 153.00 32.19 119.00 138.00 157.00 170.00 183.00\n",
       "       DEE/DEE    3.00 132.33  6.66 125.00 129.50 134.00 136.00 138.00\n",
       "36     +/+        3.00 171.67 29.54 143.00 156.50 170.00 186.00 202.00\n",
       "       DEE/DEE    6.00 136.83 30.67  87.00 121.75 148.00 154.00 169.00\n",
       "37     +/+        3.00 110.00 19.29  96.00  99.00 102.00 117.00 132.00\n",
       "       DEE/+      2.00 161.00  2.83 159.00 160.00 161.00 162.00 163.00\n",
       "       DEE/DEE    3.00  98.33 31.79  73.00  80.50  88.00 111.00 134.00\n",
       "40     +/+        6.00 177.00 21.49 147.00 160.50 184.00 193.25 198.00\n",
       "       DEE/+      4.00 111.25 14.93 101.00 101.75 105.50 115.00 133.00\n",
       "       DEE/DEE    5.00 116.40 23.07  94.00 102.00 107.00 128.00 151.00\n",
       "41     +/+        5.00 106.20 31.03  68.00  87.00 107.00 120.00 149.00\n",
       "       DEE/DEE    3.00  91.33 25.58  62.00  82.50 103.00 106.00 109.00"
      ]
     },
     "execution_count": 43,
     "metadata": {},
     "output_type": "execute_result"
    }
   ],
   "source": [
    "(merged_inner.groupby(['Litter', 'Genotype'])\n",
    "                     ['Total Number of Junctions']\n",
    "                     .describe()\n",
    ")"
   ]
  },
  {
   "cell_type": "code",
   "execution_count": 44,
   "metadata": {
    "scrolled": false
   },
   "outputs": [
    {
     "data": {
      "text/html": [
       "<div>\n",
       "<style scoped>\n",
       "    .dataframe tbody tr th:only-of-type {\n",
       "        vertical-align: middle;\n",
       "    }\n",
       "\n",
       "    .dataframe tbody tr th {\n",
       "        vertical-align: top;\n",
       "    }\n",
       "\n",
       "    .dataframe thead th {\n",
       "        text-align: right;\n",
       "    }\n",
       "</style>\n",
       "<table border=\"1\" class=\"dataframe\">\n",
       "  <thead>\n",
       "    <tr style=\"text-align: right;\">\n",
       "      <th></th>\n",
       "      <th></th>\n",
       "      <th>count</th>\n",
       "      <th>mean</th>\n",
       "      <th>std</th>\n",
       "      <th>min</th>\n",
       "      <th>25%</th>\n",
       "      <th>50%</th>\n",
       "      <th>75%</th>\n",
       "      <th>max</th>\n",
       "    </tr>\n",
       "    <tr>\n",
       "      <th>Litter</th>\n",
       "      <th>Genotype</th>\n",
       "      <th></th>\n",
       "      <th></th>\n",
       "      <th></th>\n",
       "      <th></th>\n",
       "      <th></th>\n",
       "      <th></th>\n",
       "      <th></th>\n",
       "      <th></th>\n",
       "    </tr>\n",
       "  </thead>\n",
       "  <tbody>\n",
       "    <tr>\n",
       "      <th rowspan=\"2\" valign=\"top\">35</th>\n",
       "      <th>+/+</th>\n",
       "      <td>3.00</td>\n",
       "      <td>15.53</td>\n",
       "      <td>1.33</td>\n",
       "      <td>14.22</td>\n",
       "      <td>14.86</td>\n",
       "      <td>15.50</td>\n",
       "      <td>16.19</td>\n",
       "      <td>16.88</td>\n",
       "    </tr>\n",
       "    <tr>\n",
       "      <th>DEE/DEE</th>\n",
       "      <td>3.00</td>\n",
       "      <td>13.57</td>\n",
       "      <td>0.78</td>\n",
       "      <td>13.06</td>\n",
       "      <td>13.12</td>\n",
       "      <td>13.18</td>\n",
       "      <td>13.82</td>\n",
       "      <td>14.47</td>\n",
       "    </tr>\n",
       "    <tr>\n",
       "      <th rowspan=\"2\" valign=\"top\">36</th>\n",
       "      <th>+/+</th>\n",
       "      <td>3.00</td>\n",
       "      <td>16.09</td>\n",
       "      <td>1.44</td>\n",
       "      <td>14.64</td>\n",
       "      <td>15.37</td>\n",
       "      <td>16.09</td>\n",
       "      <td>16.81</td>\n",
       "      <td>17.52</td>\n",
       "    </tr>\n",
       "    <tr>\n",
       "      <th>DEE/DEE</th>\n",
       "      <td>6.00</td>\n",
       "      <td>14.42</td>\n",
       "      <td>1.71</td>\n",
       "      <td>11.54</td>\n",
       "      <td>13.64</td>\n",
       "      <td>15.17</td>\n",
       "      <td>15.40</td>\n",
       "      <td>16.01</td>\n",
       "    </tr>\n",
       "    <tr>\n",
       "      <th rowspan=\"3\" valign=\"top\">37</th>\n",
       "      <th>+/+</th>\n",
       "      <td>3.00</td>\n",
       "      <td>13.10</td>\n",
       "      <td>1.05</td>\n",
       "      <td>12.26</td>\n",
       "      <td>12.52</td>\n",
       "      <td>12.77</td>\n",
       "      <td>13.52</td>\n",
       "      <td>14.28</td>\n",
       "    </tr>\n",
       "    <tr>\n",
       "      <th>DEE/+</th>\n",
       "      <td>2.00</td>\n",
       "      <td>15.67</td>\n",
       "      <td>0.02</td>\n",
       "      <td>15.66</td>\n",
       "      <td>15.67</td>\n",
       "      <td>15.67</td>\n",
       "      <td>15.68</td>\n",
       "      <td>15.69</td>\n",
       "    </tr>\n",
       "    <tr>\n",
       "      <th>DEE/DEE</th>\n",
       "      <td>3.00</td>\n",
       "      <td>12.67</td>\n",
       "      <td>1.74</td>\n",
       "      <td>11.29</td>\n",
       "      <td>11.69</td>\n",
       "      <td>12.08</td>\n",
       "      <td>13.35</td>\n",
       "      <td>14.62</td>\n",
       "    </tr>\n",
       "    <tr>\n",
       "      <th rowspan=\"3\" valign=\"top\">40</th>\n",
       "      <th>+/+</th>\n",
       "      <td>6.00</td>\n",
       "      <td>16.09</td>\n",
       "      <td>0.98</td>\n",
       "      <td>14.88</td>\n",
       "      <td>15.20</td>\n",
       "      <td>16.46</td>\n",
       "      <td>16.86</td>\n",
       "      <td>16.95</td>\n",
       "    </tr>\n",
       "    <tr>\n",
       "      <th>DEE/+</th>\n",
       "      <td>4.00</td>\n",
       "      <td>12.85</td>\n",
       "      <td>1.03</td>\n",
       "      <td>11.96</td>\n",
       "      <td>12.10</td>\n",
       "      <td>12.61</td>\n",
       "      <td>13.36</td>\n",
       "      <td>14.21</td>\n",
       "    </tr>\n",
       "    <tr>\n",
       "      <th>DEE/DEE</th>\n",
       "      <td>5.00</td>\n",
       "      <td>13.23</td>\n",
       "      <td>1.09</td>\n",
       "      <td>11.99</td>\n",
       "      <td>12.70</td>\n",
       "      <td>12.79</td>\n",
       "      <td>14.01</td>\n",
       "      <td>14.69</td>\n",
       "    </tr>\n",
       "    <tr>\n",
       "      <th rowspan=\"2\" valign=\"top\">41</th>\n",
       "      <th>+/+</th>\n",
       "      <td>5.00</td>\n",
       "      <td>11.68</td>\n",
       "      <td>2.02</td>\n",
       "      <td>9.64</td>\n",
       "      <td>10.55</td>\n",
       "      <td>10.94</td>\n",
       "      <td>12.50</td>\n",
       "      <td>14.78</td>\n",
       "    </tr>\n",
       "    <tr>\n",
       "      <th>DEE/DEE</th>\n",
       "      <td>3.00</td>\n",
       "      <td>11.32</td>\n",
       "      <td>1.96</td>\n",
       "      <td>9.08</td>\n",
       "      <td>10.63</td>\n",
       "      <td>12.18</td>\n",
       "      <td>12.45</td>\n",
       "      <td>12.71</td>\n",
       "    </tr>\n",
       "  </tbody>\n",
       "</table>\n",
       "</div>"
      ],
      "text/plain": [
       "                 count  mean  std   min   25%   50%   75%   max\n",
       "Litter Genotype                                                \n",
       "35     +/+        3.00 15.53 1.33 14.22 14.86 15.50 16.19 16.88\n",
       "       DEE/DEE    3.00 13.57 0.78 13.06 13.12 13.18 13.82 14.47\n",
       "36     +/+        3.00 16.09 1.44 14.64 15.37 16.09 16.81 17.52\n",
       "       DEE/DEE    6.00 14.42 1.71 11.54 13.64 15.17 15.40 16.01\n",
       "37     +/+        3.00 13.10 1.05 12.26 12.52 12.77 13.52 14.28\n",
       "       DEE/+      2.00 15.67 0.02 15.66 15.67 15.67 15.68 15.69\n",
       "       DEE/DEE    3.00 12.67 1.74 11.29 11.69 12.08 13.35 14.62\n",
       "40     +/+        6.00 16.09 0.98 14.88 15.20 16.46 16.86 16.95\n",
       "       DEE/+      4.00 12.85 1.03 11.96 12.10 12.61 13.36 14.21\n",
       "       DEE/DEE    5.00 13.23 1.09 11.99 12.70 12.79 14.01 14.69\n",
       "41     +/+        5.00 11.68 2.02  9.64 10.55 10.94 12.50 14.78\n",
       "       DEE/DEE    3.00 11.32 1.96  9.08 10.63 12.18 12.45 12.71"
      ]
     },
     "execution_count": 44,
     "metadata": {},
     "output_type": "execute_result"
    }
   ],
   "source": [
    "(merged_inner.groupby(['Litter', 'Genotype'])\n",
    "                     ['Total Vessels Length']\n",
    "                     .describe()\n",
    ")"
   ]
  },
  {
   "cell_type": "code",
   "execution_count": null,
   "metadata": {
    "collapsed": true
   },
   "outputs": [],
   "source": []
  },
  {
   "cell_type": "code",
   "execution_count": null,
   "metadata": {
    "collapsed": true
   },
   "outputs": [],
   "source": []
  },
  {
   "cell_type": "code",
   "execution_count": null,
   "metadata": {
    "collapsed": true
   },
   "outputs": [],
   "source": []
  },
  {
   "cell_type": "code",
   "execution_count": null,
   "metadata": {
    "collapsed": true
   },
   "outputs": [],
   "source": []
  },
  {
   "cell_type": "code",
   "execution_count": null,
   "metadata": {
    "collapsed": true
   },
   "outputs": [],
   "source": []
  },
  {
   "cell_type": "code",
   "execution_count": null,
   "metadata": {
    "collapsed": true
   },
   "outputs": [],
   "source": []
  },
  {
   "cell_type": "code",
   "execution_count": null,
   "metadata": {
    "collapsed": true
   },
   "outputs": [],
   "source": []
  },
  {
   "cell_type": "code",
   "execution_count": null,
   "metadata": {
    "collapsed": true
   },
   "outputs": [],
   "source": []
  },
  {
   "cell_type": "code",
   "execution_count": null,
   "metadata": {
    "collapsed": true
   },
   "outputs": [],
   "source": []
  },
  {
   "cell_type": "code",
   "execution_count": null,
   "metadata": {
    "collapsed": true
   },
   "outputs": [],
   "source": []
  },
  {
   "cell_type": "code",
   "execution_count": null,
   "metadata": {
    "collapsed": true
   },
   "outputs": [],
   "source": []
  },
  {
   "cell_type": "code",
   "execution_count": 45,
   "metadata": {
    "collapsed": true
   },
   "outputs": [],
   "source": [
    "# Potentially useful snippets for the future"
   ]
  },
  {
   "cell_type": "code",
   "execution_count": 46,
   "metadata": {
    "collapsed": true
   },
   "outputs": [],
   "source": [
    "# Remove heterozygous data\n",
    "# We are comparing wild type and mutant.\n",
    "# To make things easier later, let's now remove \n",
    "# the heterozygous data using string matching with regular expressions.\n",
    "\n",
    "# + is a special character. must prepend with \\\n",
    "#het_regex = \"DEE/\\+\" \n",
    "\n",
    "#merged_inner = merged_inner[~merged_inner['Genotype']\n",
    "#                            .str.match(het_regex)]"
   ]
  },
  {
   "cell_type": "code",
   "execution_count": 47,
   "metadata": {
    "collapsed": true,
    "scrolled": true
   },
   "outputs": [],
   "source": [
    "#idx = pd.IndexSlice\n",
    "#data_mean.index"
   ]
  },
  {
   "cell_type": "code",
   "execution_count": 48,
   "metadata": {
    "collapsed": true
   },
   "outputs": [],
   "source": [
    "# equivalent to data_mean.query('Genotype == \"+/+\"')\n",
    "#data_mean.loc[idx[:,'+/+'],:]  "
   ]
  },
  {
   "cell_type": "code",
   "execution_count": 49,
   "metadata": {
    "collapsed": true
   },
   "outputs": [],
   "source": [
    "#diffdata = ((wild.values - mutant)\n",
    "#            .rename(\n",
    "#                columns={\n",
    "#                    'Vessels percentage area':'diff Vessels percentage area',\n",
    "#                    'Total Number of Junctions':'diff Number of Junctions',\n",
    "#                    'Total Vessels Length':'diff Vessels Length',\n",
    "#                    'Total Number of End Points':'diff Number of End Point'}\n",
    "#                    )\n",
    "#            )\n",
    "\n",
    "\n",
    "#diffdata"
   ]
  },
  {
   "cell_type": "code",
   "execution_count": 50,
   "metadata": {
    "collapsed": true
   },
   "outputs": [],
   "source": [
    "#diffdata['diff Vessels percentage area'].hist()\n",
    "#plt.show()"
   ]
  },
  {
   "cell_type": "code",
   "execution_count": 51,
   "metadata": {
    "collapsed": true
   },
   "outputs": [],
   "source": [
    "#diffdata['diff Number of Junctions'].hist()\n",
    "#plt.show()"
   ]
  },
  {
   "cell_type": "code",
   "execution_count": 52,
   "metadata": {
    "collapsed": true
   },
   "outputs": [],
   "source": [
    "#diffdata['diff Number of End Point'].hist()\n"
   ]
  },
  {
   "cell_type": "code",
   "execution_count": 53,
   "metadata": {
    "collapsed": true
   },
   "outputs": [],
   "source": [
    "#diffdata['diff Vessels Length'].hist()\n",
    "#plt.show()"
   ]
  },
  {
   "cell_type": "code",
   "execution_count": 54,
   "metadata": {
    "collapsed": true
   },
   "outputs": [],
   "source": [
    "#\n",
    "#def get_unbiased_d(cohens_d, n):\n",
    "#    \"\"\"Returns an unbiased estimator of effect size\n",
    "#    \n",
    "#    Cohen's d is biased upwards for small sample size.\n",
    "#    Hedges and Olkin (1985) suggested a correction to\n",
    "#    Cohen's d.\n",
    "#    \"\"\"\n",
    "#    d_unbiased = [d * (1 - 3/(4*(n - 2) - 1))\n",
    "#                 for d in cohens_d]\n",
    "#    \n",
    "#    return d_unbiased\n",
    "\n",
    "#def other_d(t_statistic, n):\n",
    "#    other_d = [2*t / np.sqrt(n-2)\n",
    "#              for t in t_statistic]\n",
    "    \n",
    "#    return other_d\n",
    "\n",
    "#def another_d(t_statistic, n):\n",
    "#    another_d = [np.sqrt(2) * t / np.sqrt(n-1)\n",
    "#                for t in t_statistic]\n",
    "    \n",
    "#    return another_d\n",
    "\n",
    "#print(other_d(t_statistics, n))\n",
    "\n",
    "\n",
    "#unbiashed_d_values = get_unbiased_d(cohens_d_values, n)\n",
    "#other_d_values = other_d(t_statistics, n)\n",
    "#another_d_values = another_d(t_statistics, n)\n",
    "\n",
    "#rounded_cohens = list(map(lambda x: np.round(x,1), cohens_d_values))\n",
    "#print('cohens d:')\n",
    "#print(cohens_d_values)\n",
    "#print([\"{:f}\".format([print(d) for d in cohens_d_values])])\n",
    "#print('unbiased d:')\n",
    "#print(unbiashed_d_values)\n",
    "#print('other d:')\n",
    "#print(other_d_values)\n",
    "#print('another d:')\n",
    "#print(another_d_values)"
   ]
  },
  {
   "cell_type": "code",
   "execution_count": 55,
   "metadata": {
    "collapsed": true,
    "scrolled": true
   },
   "outputs": [],
   "source": [
    "##from scipy import stats\n",
    "#import statsmodels.api as sm\n",
    "\n",
    "#wild_data = [wildVPA, wildNJunctions, wildVesselsLength]\n",
    "#mutant_data = [mutantVPA, mutantNJunctions, mutantVesselsLength]\n",
    "#\n",
    "#plt.close()\n",
    "#fig, axes = plt.subplots(2, 3, figsize=(10,10),sharex=True)\n",
    "#ax = axes.ravel()\n",
    "#for i, (wild_var, mutant_var) in enumerate(\n",
    "#    list(zip(wild_data, mutant_data))):\n",
    "    \n",
    "#    sm.graphics.qqplot(data=wild_var, ax=ax[i])\n",
    "#    sm.graphics.qqplot(data=mutant_var, ax=ax[i+3])\n",
    "#stats.probplot(wildVPA, plot=ax[0])\n",
    "#plt.show()"
   ]
  },
  {
   "cell_type": "code",
   "execution_count": null,
   "metadata": {
    "collapsed": true
   },
   "outputs": [],
   "source": []
  }
 ],
 "metadata": {
  "kernelspec": {
   "display_name": "Python 3",
   "language": "python",
   "name": "python3"
  },
  "language_info": {
   "codemirror_mode": {
    "name": "ipython",
    "version": 3
   },
   "file_extension": ".py",
   "mimetype": "text/x-python",
   "name": "python",
   "nbconvert_exporter": "python",
   "pygments_lexer": "ipython3",
   "version": "3.6.2"
  }
 },
 "nbformat": 4,
 "nbformat_minor": 2
}
